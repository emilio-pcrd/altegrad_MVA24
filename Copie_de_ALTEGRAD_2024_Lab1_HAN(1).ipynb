{
 "cells": [
  {
   "cell_type": "markdown",
   "metadata": {
    "id": "MuVouapRmjEW"
   },
   "source": [
    "<center>   \n",
    "<h3> </h3>\n",
    "<h2>ALTeGraD 2024<br>Lab Session 1: HAN</h2>\n",
    "\n",
    "<h3>Hierarchical Attention Network Using GRU</h3> 8 / 10 / 2024<br> Dr. Guokan Shang, Yang Zhang<br><br>\n",
    "\n",
    "\n",
    "<b>Student name:</b> [fill me]\n",
    "\n",
    "\n",
    "</center>\n",
    "In this lab, you will get familiar with recurrent neural networks (RNNs), self-attention, and the HAN architecture <b>(Yang et al. 2016)</b> using PyTorch. In this architecture, sentence embeddings are first individually produced, and a document embedding is then computed from the sentence embeddings.<br>\n",
    "<b>The deadline for this lab is October 15, 2024 11:59 PM.</b> More details about the submission and the architecture for this lab can be found in the handout PDF.\n"
   ]
  },
  {
   "cell_type": "markdown",
   "metadata": {
    "id": "xJaSJaIP1xRy"
   },
   "source": [
    "### = = = = =  Attention Layer = = = = =\n",
    "In thi section, you will fill the gaps in the code to implement the self-attention layer. This layer will be used later to define the HAN architecture. The basic idea behind attention is that rather than considering the last annotation $h_T$ as a summary of the entire sequence, which is prone to information loss, the annotations at <i>all</i> time steps are used.\n",
    "The self-attention mechanism computes a weighted sum of the annotations, where the weights are determined by trainable parameters. Refer to <b>section 2.2</b> in the handout for the theoretical part, it will be needed to finish the first task.\n",
    "\n",
    "#### <b>Task 1:</b>"
   ]
  },
  {
   "cell_type": "code",
   "metadata": {
    "id": "yoM7H0KQncpF",
    "jupyter": {
     "is_executing": true
    }
   },
   "source": [
    "import torch\n",
    "from torch import nn\n",
    "from torch.onnx.symbolic_opset9 import tensor\n",
    "from torch.utils.data import DataLoader\n",
    "\n",
    "class AttentionWithContext(nn.Module):\n",
    "    \"\"\"\n",
    "    Follows the work of Yang et al. [https://www.cs.cmu.edu/~diyiy/docs/naacl16.pdf]\n",
    "    \"Hierarchical Attention Networks for Document Classification\"\n",
    "    by using a context vector to assist the attention\n",
    "    # Input shape\n",
    "        3D tensor with shape: `(samples, steps, features)`.\n",
    "    # Output shape\n",
    "        2D tensor with shape: `(samples, features)`.\n",
    "    \"\"\"\n",
    "\n",
    "    def __init__(self, input_shape, return_coefficients=False, bias=True):\n",
    "        super(AttentionWithContext, self).__init__()\n",
    "        self.return_coefficients = return_coefficients\n",
    "\n",
    "        self.W = nn.Linear(input_shape, input_shape, bias=bias)\n",
    "        self.tanh = nn.Tanh()\n",
    "        self.u = nn.Linear(input_shape, 1, bias=False)\n",
    "\n",
    "        self.init_weights()\n",
    "\n",
    "    def init_weights(self):\n",
    "        initrange = 0.1\n",
    "        self.W.weight.data.uniform_(-initrange, initrange)\n",
    "        self.W.bias.data.uniform_(-initrange, initrange)\n",
    "        self.u.weight.data.uniform_(-initrange, initrange)\n",
    "\n",
    "    def generate_square_subsequent_mask(self, sz):\n",
    "        # do not pass the mask to the next layers\n",
    "        mask = (torch.triu(torch.ones(sz, sz)) == 1).transpose(0, 1)\n",
    "        mask = (\n",
    "            mask.float()\n",
    "            .masked_fill(mask == 0, float(\"-inf\"))\n",
    "            .masked_fill(mask == 1, float(0.0))\n",
    "        )\n",
    "        return mask\n",
    "\n",
    "    def forward(self, x, mask=None):\n",
    "        uit = self.W(x) # fill the gap # compute uit = W . x  where x represents ht\n",
    "        uit = self.tanh(uit)\n",
    "        ait = self.u(uit)\n",
    "        a = torch.exp(ait)\n",
    "\n",
    "        # apply mask after the exp. will be re-normalized next\n",
    "        if mask is not None:\n",
    "            a = a*mask.double()\n",
    "\n",
    "        # in some cases especially in the early stages of training the sum may be almost zero\n",
    "        # and this results in NaN's. A workaround is to add a very small positive number ε to the sum.\n",
    "        eps = 1e-9\n",
    "        a = a / (torch.sum(a, axis=1, keepdim=True) + eps)\n",
    "        weighted_input = torch.sum(a * x, dim=1) ### fill the gap ### # compute the attentional vector\n",
    "        if self.return_coefficients:\n",
    "            return weighted_input, a ### [attentional vector, coefficients] ### use torch.sum to compute s\n",
    "        else:\n",
    "            return weighted_input ### attentional vector only ###"
   ],
   "outputs": [],
   "execution_count": null
  },
  {
   "cell_type": "markdown",
   "metadata": {
    "id": "DgTP6GrOHlss"
   },
   "source": [
    "### = = = = = Parameters = = = = =\n",
    "In this section, we define the parameters to use in our training. Such as data path, the embedding dimention <b>d</b>, the GRU layer dimensionality <b>n_units</b>, etc..<br>\n",
    "The parameter <b>device</b> is used to train the model on GPU if it is available. for this purpose, if you are using Google Colab, switch your runtime to a GPU runtime to train the model with a maximum speed.<br>\n",
    "<b>Bonus question:</b> What is the purpose of the parameter <i>my_patience</i>?"
   ]
  },
  {
   "cell_type": "code",
   "metadata": {
    "id": "czsVjxgYnczb",
    "jupyter": {
     "is_executing": true
    }
   },
   "source": [
    "import sys\n",
    "import json\n",
    "import operator\n",
    "import numpy as np\n",
    "\n",
    "path_root = ''\n",
    "path_to_data = path_root + 'data/'\n",
    "\n",
    "d = 30 # dimensionality of word embeddings\n",
    "n_units = 50 # RNN layer dimensionality\n",
    "drop_rate = 0.5 # dropout\n",
    "mfw_idx = 2 # index of the most frequent words in the dictionary\n",
    "            # 0 is for the special padding token\n",
    "            # 1 is for the special out-of-vocabulary token\n",
    "\n",
    "padding_idx = 0\n",
    "oov_idx = 1\n",
    "batch_size = 64\n",
    "nb_epochs = 15\n",
    "my_patience = 2 # for early stopping strategy\n",
    "device = torch.device(\"cuda\" if torch.cuda.is_available() else \"cpu\")"
   ],
   "outputs": [],
   "execution_count": null
  },
  {
   "metadata": {
    "jupyter": {
     "is_executing": true
    }
   },
   "cell_type": "code",
   "source": "device",
   "outputs": [],
   "execution_count": null
  },
  {
   "cell_type": "markdown",
   "metadata": {
    "id": "K8Vot_C7Hlst"
   },
   "source": [
    "### = = = = = Data Loading = = = = =\n",
    "In this section we will use first <b>wget</b> to download the data the we will load it using numpy in the first cell. While in the second cell, we will use these data to define our Pytorch data loader. Note that the data is already preprocessed, tokenized and padded.<br><br>\n",
    "<b>Note: if you are running your notebook on Windows or on MacOS, <i>wget</i> will probably not work if you did not install it manually. In this case, use the provided link to download the data and change the <i>path_to_data</i> in the <i>Parameters</i> section accordingly. Otherwise, you will face no problem on Ubuntu and Google Colab.</b>\n",
    "\n",
    "#### <b>Task 2.1:</b>"
   ]
  },
  {
   "cell_type": "code",
   "metadata": {
    "id": "UD6hRh0OHlst",
    "outputId": "d3f6bbba-84ea-4cd3-97c9-b35faf29166e",
    "colab": {
     "base_uri": "https://localhost:8080/"
    },
    "jupyter": {
     "is_executing": true
    }
   },
   "source": [
    "import urllib.request\n",
    "url = \"https://onedrive.live.com/download?cid=AE69638675180117&resid=AE69638675180117%2199289&authkey=AHgxt3xmgG0Fu5A\"\n",
    "output_file = \"data.zip\"\n",
    "urllib.request.urlretrieve(url, output_file)\n",
    "\n",
    "!unzip data.zip"
   ],
   "outputs": [],
   "execution_count": null
  },
  {
   "metadata": {
    "jupyter": {
     "is_executing": true
    }
   },
   "cell_type": "code",
   "source": [
    "my_docs_array_train = np.load(path_to_data + 'docs_train.npy')\n",
    "my_docs_array_test = np.load(path_to_data + 'docs_test.npy')\n",
    "\n",
    "my_labels_array_train = np.load(path_to_data + 'labels_train.npy')\n",
    "my_labels_array_test = np.load(path_to_data + 'labels_test.npy')\n",
    "\n",
    "# load dictionary of word indexes (sorted by decreasing frequency across the corpus)\n",
    "with open(path_to_data + 'word_to_index.json', 'r') as my_file:\n",
    "    word_to_index = json.load(my_file)\n",
    "\n",
    "# invert mapping\n",
    "index_to_word = {v: k for k, v in word_to_index.items()}### fill the gap (use a dict comprehension) ###\n",
    "input_size = my_docs_array_train.shape"
   ],
   "outputs": [],
   "execution_count": null
  },
  {
   "cell_type": "code",
   "metadata": {
    "id": "DpsCvmaiJfZc",
    "jupyter": {
     "is_executing": true
    }
   },
   "source": [
    "import numpy\n",
    "import torch\n",
    "from torch.utils.data import DataLoader, Dataset\n",
    "\n",
    "\n",
    "class Dataset_(Dataset):\n",
    "    def __init__(self, x, y):\n",
    "        self.documents = x\n",
    "        self.labels = y\n",
    "\n",
    "    def __len__(self):\n",
    "        return len(self.documents)\n",
    "\n",
    "    def __getitem__(self, index):\n",
    "        document = self.documents[index]\n",
    "        label = self.labels[index]\n",
    "        sample = {\n",
    "            \"document\": torch.tensor(document),\n",
    "            \"label\": torch.tensor(label),\n",
    "            }\n",
    "        return sample\n",
    "\n",
    "\n",
    "def get_loader(x, y, batch_size=32):\n",
    "    dataset = Dataset_(x, y)\n",
    "    data_loader = DataLoader(dataset=dataset,\n",
    "                            batch_size=batch_size,\n",
    "                            shuffle=True,\n",
    "                            pin_memory=True,\n",
    "                            drop_last=True,\n",
    "                            )\n",
    "    return data_loader"
   ],
   "outputs": [],
   "execution_count": null
  },
  {
   "cell_type": "markdown",
   "metadata": {
    "id": "6rzqEGOdHlst"
   },
   "source": [
    "### = = = = = Defining Architecture = = = = =\n",
    "In this section, we define the HAN architecture. We start with <i>AttentionBiGRU</i> module in order to define the sentence encoder (check Figure 3 in the handout). Then, we define the <i>TimeDistributed</i> module to allow us to forward our input (batch of document) as to the sentence encoder as <b>batch of sentences</b>, where each sentence in the document will be considered as a time step. This module also reshape the output to a batch of timesteps representations per document. Finally we define the <b>HAN</b> architecture using <i>TimeDistributed</i>, <i>AttentionWithContext</i> and <i>GRU</i>.\n",
    "\n",
    "#### <b>Task 2.2:</b>"
   ]
  },
  {
   "cell_type": "code",
   "metadata": {
    "id": "AMj9j1_pHlst",
    "jupyter": {
     "is_executing": true
    }
   },
   "source": [
    "class AttentionBiGRU(nn.Module):\n",
    "    def __init__(self, input_shape, n_units, index_to_word, dropout=0):\n",
    "        super(AttentionBiGRU, self).__init__()\n",
    "        self.embedding = nn.Embedding(50000,# fill the gap # vocab size\n",
    "                                      d, # dimensionality of embedding space\n",
    "                                      padding_idx=0)\n",
    "        self.dropout = nn.Dropout(drop_rate)\n",
    "        self.gru = nn.GRU(input_size=d,\n",
    "                          hidden_size=n_units,\n",
    "                          num_layers=1,\n",
    "                          bias=True,\n",
    "                          batch_first=True,\n",
    "                          bidirectional=True)\n",
    "        self.attention = AttentionWithContext(2 * n_units,   # fill the gap # the input shape for the attention layer\n",
    "                                              return_coefficients=True)\n",
    "\n",
    "\n",
    "    def forward(self, sent_ints):\n",
    "        sent_wv = self.embedding(sent_ints)\n",
    "        sent_wv_dr = self.dropout(sent_wv)\n",
    "        sent_wa, _ = self.gru(sent_wv_dr) # fill the gap # RNN layer\n",
    "        sent_att_vec, word_att_coeffs = self.attention(sent_wa) # fill the gap # attentional vector for the sent\n",
    "        sent_att_vec_dr = self.dropout(sent_att_vec)\n",
    "        return sent_att_vec_dr, word_att_coeffs\n",
    "\n",
    "class TimeDistributed(nn.Module):\n",
    "    def __init__(self, module, batch_first=False):\n",
    "        super(TimeDistributed, self).__init__()\n",
    "        self.module = module\n",
    "        self.batch_first = batch_first\n",
    "\n",
    "    def forward(self, x):\n",
    "        if len(x.size()) <= 2:\n",
    "            return self.module(x)\n",
    "        # Squash samples and timesteps into a single axis\n",
    "        x_reshape = x.contiguous().view(-1, x.size(-1))  # (samples * timesteps, input_size) (448, 30)\n",
    "        sent_att_vec_dr, word_att_coeffs = self.module(x_reshape)\n",
    "        # We have to reshape the output\n",
    "        if self.batch_first:\n",
    "            sent_att_vec_dr = sent_att_vec_dr.contiguous().view(x.size(0), -1, sent_att_vec_dr.size(-1))  # (samples, timesteps, output_size)\n",
    "            word_att_coeffs = word_att_coeffs.contiguous().view(x.size(0), -1, word_att_coeffs.size(-1))  # (samples, timesteps, output_size)\n",
    "        else:\n",
    "            sent_att_vec_dr = sent_att_vec_dr.view(-1, x.size(1), sent_att_vec_dr.size(-1))  # (timesteps, samples, output_size)\n",
    "            word_att_coeffs = word_att_coeffs.view(-1, x.size(1), word_att_coeffs.size(-1))  # (timesteps, samples, output_size)\n",
    "        return sent_att_vec_dr, word_att_coeffs\n",
    "\n",
    "class HAN(nn.Module):\n",
    "    def __init__(self, input_shape, n_units, index_to_word, dropout=0):\n",
    "        super(HAN, self).__init__()\n",
    "        self.encoder = AttentionBiGRU(input_shape, n_units, index_to_word, dropout)\n",
    "        self.timeDistributed = TimeDistributed(self.encoder, True)\n",
    "        self.dropout = nn.Dropout(drop_rate)\n",
    "        self.gru = nn.GRU(input_size=2 * n_units,# fill the gap # the input shape of GRU layer\n",
    "                          hidden_size=2 * n_units,\n",
    "                          num_layers=1,\n",
    "                          bias=True,\n",
    "                          batch_first=True,\n",
    "                          bidirectional=True)\n",
    "        self.attention = AttentionWithContext(2 * 2 * n_units, # fill the gap # the input shape of between-sentence attention layer\n",
    "                                              return_coefficients=True)\n",
    "        self.lin_out = nn.Linear(n_units * 2 * 2, # fill the gap # the input size of the last linear layer\n",
    "                                 1)\n",
    "        self.preds = nn.Sigmoid()\n",
    "\n",
    "    def forward(self, doc_ints):\n",
    "        sent_att_vecs_dr, word_att_coeffs = self.timeDistributed(doc_ints) # fill the gap # get sentence representation\n",
    "        doc_sa, _ = self.gru(sent_att_vecs_dr)\n",
    "        doc_att_vec, sent_att_coeffs = self.attention(doc_sa)\n",
    "\n",
    "        doc_att_vec_dr = self.dropout(doc_att_vec)\n",
    "        doc_att_vec_dr = self.lin_out(doc_att_vec_dr)\n",
    "        return self.preds(doc_att_vec_dr), word_att_coeffs, sent_att_coeffs\n"
   ],
   "outputs": [],
   "execution_count": null
  },
  {
   "cell_type": "markdown",
   "metadata": {
    "id": "sgreR5AcHlst"
   },
   "source": [
    "### = = = = = Training = = = = =\n",
    "In this section, we have two code cells. In the first one, we define our evaluation function to compute the training and validation accuracies. While in the second one, we define our model, loss and optimizer and train the model over <i>nb_epochs</i>.<br>\n",
    "<b>Bonus task:</b> use <a href=\"https://pytorch.org/tutorials/recipes/recipes/tensorboard_with_pytorch.html\" target=\"_blank\">tensorboard</a> to visualize the loss and the validation accuray during the training.\n",
    "\n",
    "#### <b>Task 2.3:</b>"
   ]
  },
  {
   "cell_type": "code",
   "metadata": {
    "id": "ztF2Lkie-C25",
    "jupyter": {
     "is_executing": true
    }
   },
   "source": [
    "def evaluate_accuracy(data_loader, verbose=True):\n",
    "    model.eval()\n",
    "    total_loss = 0.0\n",
    "    ncorrect = ntotal = 0\n",
    "    with torch.no_grad():\n",
    "        for idx, data in enumerate(data_loader):\n",
    "            # inference\n",
    "            output = model(data[\"document\"].to(device))[0]\n",
    "            output = output[:, -1] # only last vector\n",
    "            # total number of examples\n",
    "            ntotal +=  output.shape[0]\n",
    "            # number of correct predictions\n",
    "            predictions = torch.round(output)\n",
    "            ncorrect += torch.sum(predictions == data['label'].to(device)) #fill me # number of correct prediction - hint: use torch.sum\n",
    "        acc = ncorrect.item() / ntotal\n",
    "        if verbose:\n",
    "          print(\"validation accuracy: {:3.2f}\".format(acc*100))\n",
    "        return acc"
   ],
   "outputs": [],
   "execution_count": null
  },
  {
   "cell_type": "code",
   "metadata": {
    "id": "RRYiKhZEEidb",
    "colab": {
     "base_uri": "https://localhost:8080/"
    },
    "outputId": "c994432a-8f35-42d6-a1c2-94101d3186fb",
    "jupyter": {
     "is_executing": true
    }
   },
   "source": [
    "from tqdm import tqdm\n",
    "\n",
    "model = HAN(input_size, n_units, index_to_word).to(device)\n",
    "model = model.double()\n",
    "print(n_units)\n",
    "lr = 0.001  # learning rate\n",
    "criterion = torch.nn.BCELoss() # fill the gap, use Binary cross entropy from torch.nn: https://pytorch.org/docs/stable/nn.html#loss-functions\n",
    "optimizer = torch.optim.Adam(model.parameters(), lr=lr) #fill me\n",
    "\n",
    "def train(x_train=my_docs_array_train,\n",
    "          y_train=my_labels_array_train,\n",
    "          x_test=my_docs_array_test,\n",
    "          y_test=my_labels_array_test,\n",
    "          word_dict=index_to_word,\n",
    "          batch_size=batch_size):\n",
    "\n",
    "    train_data = get_loader(x_train, y_train, batch_size)\n",
    "    test_data = get_loader(my_docs_array_test, my_labels_array_test, batch_size)\n",
    "\n",
    "    best_validation_acc = 0.0\n",
    "    p = 0 # patience\n",
    "\n",
    "    for epoch in range(1, nb_epochs + 1):\n",
    "        losses = []\n",
    "        accuracies = []\n",
    "        with tqdm(train_data, unit=\"batch\") as tepoch:\n",
    "            for idx, data in enumerate(tepoch):\n",
    "                tepoch.set_description(f\"Epoch {epoch}\")\n",
    "                model.train()\n",
    "                optimizer.zero_grad()\n",
    "                input = data['document'].to(device)\n",
    "                label = data['label'].to(device)\n",
    "                label = label.double()\n",
    "                output = model.forward(input)[0]\n",
    "                output = output[:, -1]\n",
    "                loss = criterion(output, label) # fill the gap # compute the loss\n",
    "                loss.backward()\n",
    "                torch.nn.utils.clip_grad_norm_(model.parameters(), 0.5) # prevent exploding gradient\n",
    "                optimizer.step()\n",
    "\n",
    "                losses.append(loss.item())\n",
    "                accuracy = torch.sum(torch.round(output) == label).item() / batch_size\n",
    "                accuracies.append(accuracy)\n",
    "                tepoch.set_postfix(loss=sum(losses)/len(losses), accuracy=100. * sum(accuracies)/len(accuracies))\n",
    "\n",
    "        # train_acc = evaluate_accuracy(train_data, False)\n",
    "        test_acc = evaluate_accuracy(test_data, False)\n",
    "        print(\"===> Epoch {} Complete: Avg. Loss: {:.4f}, Validation Accuracy: {:3.2f}%\"\n",
    "              .format(epoch, sum(losses)/len(losses), 100.*test_acc))\n",
    "        if test_acc >= best_validation_acc:\n",
    "            best_validation_acc = test_acc\n",
    "            print(\"Validation accuracy improved, saving model...\")\n",
    "            torch.save(model.state_dict(), './best_model.pt')\n",
    "            p = 0\n",
    "            print()\n",
    "        else:\n",
    "            p += 1\n",
    "            if p==my_patience:\n",
    "                print(\"Validation accuracy did not improve for {} epochs, stopping training...\".format(my_patience))\n",
    "    print(\"Loading best checkpoint...\")\n",
    "    model.load_state_dict(torch.load('./best_model.pt'))\n",
    "    model.eval()\n",
    "    print('done.')"
   ],
   "outputs": [],
   "execution_count": null
  },
  {
   "cell_type": "code",
   "source": [
    "train()"
   ],
   "metadata": {
    "colab": {
     "base_uri": "https://localhost:8080/"
    },
    "id": "ZSmRsly9saOn",
    "outputId": "e1e4ef90-e550-4351-bb84-bec92d30130a",
    "ExecuteTime": {
     "end_time": "2024-10-12T21:58:02.520347Z",
     "start_time": "2024-10-12T21:52:09.783797Z"
    }
   },
   "outputs": [
    {
     "name": "stderr",
     "output_type": "stream",
     "text": [
      "Epoch 1: 100%|██████████| 390/390 [00:17<00:00, 22.06batch/s, accuracy=59.4, loss=0.656]\n"
     ]
    },
    {
     "name": "stdout",
     "output_type": "stream",
     "text": [
      "===> Epoch 1 Complete: Avg. Loss: 0.6561, Validation Accuracy: 67.20%\n",
      "Validation accuracy improved, saving model...\n",
      "\n"
     ]
    },
    {
     "name": "stderr",
     "output_type": "stream",
     "text": [
      "Epoch 2: 100%|██████████| 390/390 [00:18<00:00, 21.18batch/s, accuracy=70, loss=0.572]  \n"
     ]
    },
    {
     "name": "stdout",
     "output_type": "stream",
     "text": [
      "===> Epoch 2 Complete: Avg. Loss: 0.5715, Validation Accuracy: 75.24%\n",
      "Validation accuracy improved, saving model...\n",
      "\n"
     ]
    },
    {
     "name": "stderr",
     "output_type": "stream",
     "text": [
      "Epoch 3: 100%|██████████| 390/390 [00:18<00:00, 21.23batch/s, accuracy=74.8, loss=0.511]\n"
     ]
    },
    {
     "name": "stdout",
     "output_type": "stream",
     "text": [
      "===> Epoch 3 Complete: Avg. Loss: 0.5108, Validation Accuracy: 78.53%\n",
      "Validation accuracy improved, saving model...\n",
      "\n"
     ]
    },
    {
     "name": "stderr",
     "output_type": "stream",
     "text": [
      "Epoch 4: 100%|██████████| 390/390 [00:18<00:00, 21.11batch/s, accuracy=78.1, loss=0.465]\n"
     ]
    },
    {
     "name": "stdout",
     "output_type": "stream",
     "text": [
      "===> Epoch 4 Complete: Avg. Loss: 0.4647, Validation Accuracy: 80.16%\n",
      "Validation accuracy improved, saving model...\n",
      "\n"
     ]
    },
    {
     "name": "stderr",
     "output_type": "stream",
     "text": [
      "Epoch 5: 100%|██████████| 390/390 [00:18<00:00, 21.37batch/s, accuracy=80.4, loss=0.426]\n"
     ]
    },
    {
     "name": "stdout",
     "output_type": "stream",
     "text": [
      "===> Epoch 5 Complete: Avg. Loss: 0.4263, Validation Accuracy: 80.65%\n",
      "Validation accuracy improved, saving model...\n",
      "\n"
     ]
    },
    {
     "name": "stderr",
     "output_type": "stream",
     "text": [
      "Epoch 6: 100%|██████████| 390/390 [00:16<00:00, 22.95batch/s, accuracy=81.9, loss=0.4]  \n"
     ]
    },
    {
     "name": "stdout",
     "output_type": "stream",
     "text": [
      "===> Epoch 6 Complete: Avg. Loss: 0.4003, Validation Accuracy: 82.47%\n",
      "Validation accuracy improved, saving model...\n",
      "\n"
     ]
    },
    {
     "name": "stderr",
     "output_type": "stream",
     "text": [
      "Epoch 7: 100%|██████████| 390/390 [00:18<00:00, 21.61batch/s, accuracy=83, loss=0.381]  \n"
     ]
    },
    {
     "name": "stdout",
     "output_type": "stream",
     "text": [
      "===> Epoch 7 Complete: Avg. Loss: 0.3809, Validation Accuracy: 83.26%\n",
      "Validation accuracy improved, saving model...\n",
      "\n"
     ]
    },
    {
     "name": "stderr",
     "output_type": "stream",
     "text": [
      "Epoch 8: 100%|██████████| 390/390 [00:17<00:00, 22.88batch/s, accuracy=84.4, loss=0.358]\n"
     ]
    },
    {
     "name": "stdout",
     "output_type": "stream",
     "text": [
      "===> Epoch 8 Complete: Avg. Loss: 0.3577, Validation Accuracy: 83.92%\n",
      "Validation accuracy improved, saving model...\n",
      "\n"
     ]
    },
    {
     "name": "stderr",
     "output_type": "stream",
     "text": [
      "Epoch 9: 100%|██████████| 390/390 [00:17<00:00, 22.86batch/s, accuracy=85.1, loss=0.341]\n"
     ]
    },
    {
     "name": "stdout",
     "output_type": "stream",
     "text": [
      "===> Epoch 9 Complete: Avg. Loss: 0.3414, Validation Accuracy: 84.23%\n",
      "Validation accuracy improved, saving model...\n",
      "\n"
     ]
    },
    {
     "name": "stderr",
     "output_type": "stream",
     "text": [
      "Epoch 10: 100%|██████████| 390/390 [00:17<00:00, 21.79batch/s, accuracy=85.6, loss=0.33] \n"
     ]
    },
    {
     "name": "stdout",
     "output_type": "stream",
     "text": [
      "===> Epoch 10 Complete: Avg. Loss: 0.3298, Validation Accuracy: 83.54%\n"
     ]
    },
    {
     "name": "stderr",
     "output_type": "stream",
     "text": [
      "Epoch 11: 100%|██████████| 390/390 [00:18<00:00, 20.90batch/s, accuracy=86.7, loss=0.312]\n"
     ]
    },
    {
     "name": "stdout",
     "output_type": "stream",
     "text": [
      "===> Epoch 11 Complete: Avg. Loss: 0.3118, Validation Accuracy: 84.48%\n",
      "Validation accuracy improved, saving model...\n",
      "\n"
     ]
    },
    {
     "name": "stderr",
     "output_type": "stream",
     "text": [
      "Epoch 12: 100%|██████████| 390/390 [00:17<00:00, 22.56batch/s, accuracy=87.1, loss=0.302]\n"
     ]
    },
    {
     "name": "stdout",
     "output_type": "stream",
     "text": [
      "===> Epoch 12 Complete: Avg. Loss: 0.3018, Validation Accuracy: 84.23%\n"
     ]
    },
    {
     "name": "stderr",
     "output_type": "stream",
     "text": [
      "Epoch 13: 100%|██████████| 390/390 [00:17<00:00, 22.08batch/s, accuracy=87.8, loss=0.292]\n"
     ]
    },
    {
     "name": "stdout",
     "output_type": "stream",
     "text": [
      "===> Epoch 13 Complete: Avg. Loss: 0.2915, Validation Accuracy: 84.88%\n",
      "Validation accuracy improved, saving model...\n",
      "\n"
     ]
    },
    {
     "name": "stderr",
     "output_type": "stream",
     "text": [
      "Epoch 14: 100%|██████████| 390/390 [00:17<00:00, 22.00batch/s, accuracy=88.4, loss=0.278]\n"
     ]
    },
    {
     "name": "stdout",
     "output_type": "stream",
     "text": [
      "===> Epoch 14 Complete: Avg. Loss: 0.2783, Validation Accuracy: 84.20%\n"
     ]
    },
    {
     "name": "stderr",
     "output_type": "stream",
     "text": [
      "Epoch 15: 100%|██████████| 390/390 [00:18<00:00, 21.37batch/s, accuracy=88.6, loss=0.275]\n"
     ]
    },
    {
     "name": "stdout",
     "output_type": "stream",
     "text": [
      "===> Epoch 15 Complete: Avg. Loss: 0.2753, Validation Accuracy: 84.36%\n",
      "Validation accuracy did not improve for 2 epochs, stopping training...\n",
      "Loading best checkpoint...\n",
      "done.\n"
     ]
    },
    {
     "name": "stderr",
     "output_type": "stream",
     "text": [
      "/tmp/ipykernel_386736/4099298062.py:61: FutureWarning: You are using `torch.load` with `weights_only=False` (the current default value), which uses the default pickle module implicitly. It is possible to construct malicious pickle data which will execute arbitrary code during unpickling (See https://github.com/pytorch/pytorch/blob/main/SECURITY.md#untrusted-models for more details). In a future release, the default value for `weights_only` will be flipped to `True`. This limits the functions that could be executed during unpickling. Arbitrary objects will no longer be allowed to be loaded via this mode unless they are explicitly allowlisted by the user via `torch.serialization.add_safe_globals`. We recommend you start setting `weights_only=True` for any use case where you don't have full control of the loaded file. Please open an issue on GitHub for any issues related to this experimental feature.\n",
      "  model.load_state_dict(torch.load('./best_model.pt'))\n"
     ]
    }
   ],
   "execution_count": 18
  },
  {
   "cell_type": "markdown",
   "metadata": {
    "id": "Dvyr8B5QHlst"
   },
   "source": [
    "### = = = = = Extraction of Attention Coefficients = = = = =\n",
    "In this section, we will extract and display the attention coefficients on two levels: sentence level and word level. To do so, we will extract the corresponding weights from our model.\n",
    "#### <b>Task 3:</b>"
   ]
  },
  {
   "cell_type": "code",
   "metadata": {
    "id": "UVr8cS4MHlst",
    "ExecuteTime": {
     "end_time": "2024-10-12T22:00:33.377819Z",
     "start_time": "2024-10-12T22:00:33.373934Z"
    }
   },
   "source": [
    "# select last review:\n",
    "my_review = my_docs_array_test[-1:,:,:]\n",
    "\n",
    "# convert integer review to text:\n",
    "index_to_word[1] = 'OOV'\n",
    "my_review_text = [[index_to_word[idx] for idx in sent if idx in index_to_word] for sent in my_review.tolist()[0]]"
   ],
   "outputs": [],
   "execution_count": 19
  },
  {
   "cell_type": "markdown",
   "metadata": {
    "id": "wHDJ7JiqHlsu"
   },
   "source": [
    "###   &emsp;&emsp;  = = = = = Attention Over Sentences in the Document = = = = ="
   ]
  },
  {
   "metadata": {
    "ExecuteTime": {
     "end_time": "2024-10-12T22:04:24.413743Z",
     "start_time": "2024-10-12T22:04:24.409524Z"
    }
   },
   "cell_type": "code",
   "source": "my_review.shape",
   "outputs": [
    {
     "data": {
      "text/plain": [
       "(1, 7, 30)"
      ]
     },
     "execution_count": 24,
     "metadata": {},
     "output_type": "execute_result"
    }
   ],
   "execution_count": 24
  },
  {
   "cell_type": "code",
   "metadata": {
    "id": "yooWg3kkHlsu",
    "ExecuteTime": {
     "end_time": "2024-10-12T22:11:40.460708Z",
     "start_time": "2024-10-12T22:11:40.443535Z"
    }
   },
   "source": [
    "with torch.no_grad():\n",
    "    sent_coeffs = model.forward(torch.tensor(my_review).to(device))[-1] # fill the gap # get sentence attention coeffs by passing the review to the model - (you need to convert the input torch tensor)\n",
    "sent_coeffs = sent_coeffs[0,:,:]\n",
    "\n",
    "for elt in zip(sent_coeffs[:,0].tolist(),[' '.join(elt) for elt in my_review_text]):\n",
    "    print(round(elt[0]*100,2),elt[1])"
   ],
   "outputs": [
    {
     "name": "stdout",
     "output_type": "stream",
     "text": [
      "6.36 There 's a sign on The Lost Highway that says : OOV SPOILERS OOV ( but you already knew that , did n't you ? )\n",
      "7.88 Since there 's a great deal of people that apparently did not get the point of this movie , I 'd like to contribute my interpretation of why the plot\n",
      "10.69 As others have pointed out , one single viewing of this movie is not sufficient .\n",
      "15.0 If you have the DVD of MD , you can OOV ' by looking at David Lynch 's 'Top 10 OOV to OOV MD ' ( but only upon second\n",
      "26.66 ; ) First of all , Mulholland Drive is downright brilliant .\n",
      "24.65 A masterpiece .\n",
      "8.76 This is the kind of movie that refuse to leave your head .\n"
     ]
    }
   ],
   "execution_count": 44
  },
  {
   "metadata": {
    "jupyter": {
     "is_executing": true
    }
   },
   "cell_type": "code",
   "source": [
    "import matplotlib.pyplot as plt\n",
    "import seaborn as sns\n",
    "\n",
    "def plot_attention_coeffs(sent_coeffs, my_review_text):\n",
    "    attention_scores = sent_coeffs[:, 0].tolist()\n",
    "    sentences = [' '.join(elt) for elt in my_review_text]\n",
    "\n",
    "    plt.figure(figsize=(10, 6))\n",
    "    sns.barplot(x=attention_scores, y=sentences, orient='h', palette=\"Blues_d\")\n",
    "    plt.title('Sentence-Level Attention Scores')\n",
    "    plt.xlabel('Attention Score')\n",
    "    plt.ylabel('Sentence')\n",
    "    plt.savefig('./figures/Sentence_attention_scores')\n",
    "    plt.show()\n",
    "\n",
    "plot_attention_coeffs(sent_coeffs, my_review_text)"
   ],
   "outputs": [],
   "execution_count": null
  },
  {
   "cell_type": "markdown",
   "metadata": {
    "id": "rII-DNrKHlsu"
   },
   "source": [
    "### &emsp;&emsp; = = = = = Attention Over Words in Each Sentence = = = = ="
   ]
  },
  {
   "cell_type": "code",
   "metadata": {
    "colab": {
     "base_uri": "https://localhost:8080/"
    },
    "id": "JyFjAga6Hlsu",
    "outputId": "d9640e73-a3a1-4745-b215-d55470036a3c",
    "ExecuteTime": {
     "end_time": "2024-10-12T22:34:31.569333Z",
     "start_time": "2024-10-12T22:34:31.549648Z"
    }
   },
   "source": [
    "word_coeffs = model.forward(torch.tensor(my_review).to(device))[1] # fill the gap # get words attention coeffs by passing the review to the model - (you need to convert the inout torch tensor)\n",
    "\n",
    "word_coeffs_list = word_coeffs.reshape(7,30).tolist()\n",
    "\n",
    "# match text and coefficients:\n",
    "text_word_coeffs = [list(zip(words,word_coeffs_list[idx][:len(words)])) for idx,words in enumerate(my_review_text)]\n",
    "print(text_word_coeffs[-1])\n",
    "\n",
    "for sent in text_word_coeffs:\n",
    "    [print(elt) for elt in sent]\n",
    "    print('= = = =')\n",
    "\n",
    "# sort words by importance within each sentence:\n",
    "text_word_coeffs_sorted = [sorted(elt,key=operator.itemgetter(1),reverse=True) for elt in text_word_coeffs]\n",
    "\n",
    "for sent in text_word_coeffs_sorted:\n",
    "    [print(elt) for elt in sent]\n",
    "    print('= = = =')"
   ],
   "outputs": [
    {
     "name": "stdout",
     "output_type": "stream",
     "text": [
      "[('This', 0.023240502548163244), ('is', 0.028696855183474188), ('the', 0.0624185052234133), ('kind', 0.11792766263181181), ('of', 0.1586793114904022), ('movie', 0.047476613340148154), ('that', 0.028947218254733925), ('refuse', 0.03999564551966031), ('to', 0.02189688976597454), ('leave', 0.018169949697751927), ('your', 0.026562942648447958), ('head', 0.0488389311648476), ('.', 0.014952449054283556)]\n",
      "('There', 0.045799695144719016)\n",
      "(\"'s\", 0.02983612400144142)\n",
      "('a', 0.034151106786111655)\n",
      "('sign', 0.028838653114082593)\n",
      "('on', 0.026809720057786115)\n",
      "('The', 0.030317370915422862)\n",
      "('Lost', 0.03502862491342068)\n",
      "('Highway', 0.02712299363159187)\n",
      "('that', 0.02216484380546956)\n",
      "('says', 0.032490323221162985)\n",
      "(':', 0.028561301494987215)\n",
      "('OOV', 0.029870599977851096)\n",
      "('SPOILERS', 0.024039681231769108)\n",
      "('OOV', 0.020401390408002144)\n",
      "('(', 0.020446026001610634)\n",
      "('but', 0.03507112845592177)\n",
      "('you', 0.06628387236275637)\n",
      "('already', 0.03367802972465732)\n",
      "('knew', 0.028393931179896297)\n",
      "('that', 0.027689535437380123)\n",
      "(',', 0.027312713780126393)\n",
      "('did', 0.03758571626954364)\n",
      "(\"n't\", 0.04320903648869057)\n",
      "('you', 0.04848663340200371)\n",
      "('?', 0.05393024802488149)\n",
      "(')', 0.02891002759643909)\n",
      "= = = =\n",
      "('Since', 0.03744300427500927)\n",
      "('there', 0.02233630853258119)\n",
      "(\"'s\", 0.02616232813856213)\n",
      "('a', 0.037972122150751006)\n",
      "('great', 0.10072572355964994)\n",
      "('deal', 0.05087345561022417)\n",
      "('of', 0.03344946414406496)\n",
      "('people', 0.01670832218278617)\n",
      "('that', 0.014494230363655094)\n",
      "('apparently', 0.01950069917058163)\n",
      "('did', 0.02205907910983642)\n",
      "('not', 0.016834878696799314)\n",
      "('get', 0.01524230974628692)\n",
      "('the', 0.01396114326470138)\n",
      "('point', 0.03423328621646731)\n",
      "('of', 0.030894152251170093)\n",
      "('this', 0.05425827260875416)\n",
      "('movie', 0.04207273620443606)\n",
      "(',', 0.034107230680031304)\n",
      "('I', 0.032653273279396045)\n",
      "(\"'d\", 0.034692565463015426)\n",
      "('like', 0.04122902625184003)\n",
      "('to', 0.020543193676541838)\n",
      "('contribute', 0.03051444921403863)\n",
      "('my', 0.052361543327801956)\n",
      "('interpretation', 0.0340991220781381)\n",
      "('of', 0.03447306020636953)\n",
      "('why', 0.024986186173607965)\n",
      "('the', 0.021573194542179187)\n",
      "('plot', 0.04954563879083978)\n",
      "= = = =\n",
      "('As', 0.035031593181123824)\n",
      "('others', 0.0538490623920153)\n",
      "('have', 0.020022292343719574)\n",
      "('pointed', 0.031557269537703624)\n",
      "('out', 0.03550264505985895)\n",
      "(',', 0.01662961312137644)\n",
      "('one', 0.017358166146691972)\n",
      "('single', 0.03242767884859645)\n",
      "('viewing', 0.08358343968202252)\n",
      "('of', 0.06002954515871766)\n",
      "('this', 0.06738360907366693)\n",
      "('movie', 0.05080029151944413)\n",
      "('is', 0.04435823749870637)\n",
      "('not', 0.06594423736685975)\n",
      "('sufficient', 0.052368599023636206)\n",
      "('.', 0.020304354622756756)\n",
      "= = = =\n",
      "('If', 0.07518250299194658)\n",
      "('you', 0.04151044954420908)\n",
      "('have', 0.022076639709414765)\n",
      "('the', 0.01962866285519386)\n",
      "('DVD', 0.026302646849717948)\n",
      "('of', 0.0253194923005131)\n",
      "('MD', 0.04449650250990746)\n",
      "(',', 0.02547532142461729)\n",
      "('you', 0.04852467506740197)\n",
      "('can', 0.024435698566606597)\n",
      "('OOV', 0.026374093388148785)\n",
      "(\"'\", 0.02308395534361635)\n",
      "('by', 0.02494664145146685)\n",
      "('looking', 0.03137011241201053)\n",
      "('at', 0.0281072616016918)\n",
      "('David', 0.04023684813824925)\n",
      "('Lynch', 0.03518438619843494)\n",
      "(\"'s\", 0.0266013371592213)\n",
      "(\"'Top\", 0.06475048904698792)\n",
      "('10', 0.030422111912676263)\n",
      "('OOV', 0.0236860020125815)\n",
      "('to', 0.025422107083285496)\n",
      "('OOV', 0.02728099677046749)\n",
      "('MD', 0.05419099909556529)\n",
      "(\"'\", 0.022986796289647646)\n",
      "('(', 0.020220629143490636)\n",
      "('but', 0.03127181561603281)\n",
      "('only', 0.03258168921853159)\n",
      "('upon', 0.0419487703880021)\n",
      "('second', 0.03638036577458377)\n",
      "= = = =\n",
      "(';', 0.04289338835559455)\n",
      "(')', 0.03147399069589412)\n",
      "('First', 0.030734384263448298)\n",
      "('of', 0.02138325310386187)\n",
      "('all', 0.023741180656654152)\n",
      "(',', 0.016961549080733267)\n",
      "('Mulholland', 0.03140780447112672)\n",
      "('Drive', 0.03808084967465284)\n",
      "('is', 0.024464713602561104)\n",
      "('downright', 0.09772615819745148)\n",
      "('brilliant', 0.24184991476529488)\n",
      "('.', 0.02367734965019577)\n",
      "= = = =\n",
      "('A', 0.08229242227137283)\n",
      "('masterpiece', 0.2592358530839896)\n",
      "('.', 0.026650492154742453)\n",
      "= = = =\n",
      "('This', 0.023240502548163244)\n",
      "('is', 0.028696855183474188)\n",
      "('the', 0.0624185052234133)\n",
      "('kind', 0.11792766263181181)\n",
      "('of', 0.1586793114904022)\n",
      "('movie', 0.047476613340148154)\n",
      "('that', 0.028947218254733925)\n",
      "('refuse', 0.03999564551966031)\n",
      "('to', 0.02189688976597454)\n",
      "('leave', 0.018169949697751927)\n",
      "('your', 0.026562942648447958)\n",
      "('head', 0.0488389311648476)\n",
      "('.', 0.014952449054283556)\n",
      "= = = =\n",
      "('you', 0.06628387236275637)\n",
      "('?', 0.05393024802488149)\n",
      "('you', 0.04848663340200371)\n",
      "('There', 0.045799695144719016)\n",
      "(\"n't\", 0.04320903648869057)\n",
      "('did', 0.03758571626954364)\n",
      "('but', 0.03507112845592177)\n",
      "('Lost', 0.03502862491342068)\n",
      "('a', 0.034151106786111655)\n",
      "('already', 0.03367802972465732)\n",
      "('says', 0.032490323221162985)\n",
      "('The', 0.030317370915422862)\n",
      "('OOV', 0.029870599977851096)\n",
      "(\"'s\", 0.02983612400144142)\n",
      "(')', 0.02891002759643909)\n",
      "('sign', 0.028838653114082593)\n",
      "(':', 0.028561301494987215)\n",
      "('knew', 0.028393931179896297)\n",
      "('that', 0.027689535437380123)\n",
      "(',', 0.027312713780126393)\n",
      "('Highway', 0.02712299363159187)\n",
      "('on', 0.026809720057786115)\n",
      "('SPOILERS', 0.024039681231769108)\n",
      "('that', 0.02216484380546956)\n",
      "('(', 0.020446026001610634)\n",
      "('OOV', 0.020401390408002144)\n",
      "= = = =\n",
      "('great', 0.10072572355964994)\n",
      "('this', 0.05425827260875416)\n",
      "('my', 0.052361543327801956)\n",
      "('deal', 0.05087345561022417)\n",
      "('plot', 0.04954563879083978)\n",
      "('movie', 0.04207273620443606)\n",
      "('like', 0.04122902625184003)\n",
      "('a', 0.037972122150751006)\n",
      "('Since', 0.03744300427500927)\n",
      "(\"'d\", 0.034692565463015426)\n",
      "('of', 0.03447306020636953)\n",
      "('point', 0.03423328621646731)\n",
      "(',', 0.034107230680031304)\n",
      "('interpretation', 0.0340991220781381)\n",
      "('of', 0.03344946414406496)\n",
      "('I', 0.032653273279396045)\n",
      "('of', 0.030894152251170093)\n",
      "('contribute', 0.03051444921403863)\n",
      "(\"'s\", 0.02616232813856213)\n",
      "('why', 0.024986186173607965)\n",
      "('there', 0.02233630853258119)\n",
      "('did', 0.02205907910983642)\n",
      "('the', 0.021573194542179187)\n",
      "('to', 0.020543193676541838)\n",
      "('apparently', 0.01950069917058163)\n",
      "('not', 0.016834878696799314)\n",
      "('people', 0.01670832218278617)\n",
      "('get', 0.01524230974628692)\n",
      "('that', 0.014494230363655094)\n",
      "('the', 0.01396114326470138)\n",
      "= = = =\n",
      "('viewing', 0.08358343968202252)\n",
      "('this', 0.06738360907366693)\n",
      "('not', 0.06594423736685975)\n",
      "('of', 0.06002954515871766)\n",
      "('others', 0.0538490623920153)\n",
      "('sufficient', 0.052368599023636206)\n",
      "('movie', 0.05080029151944413)\n",
      "('is', 0.04435823749870637)\n",
      "('out', 0.03550264505985895)\n",
      "('As', 0.035031593181123824)\n",
      "('single', 0.03242767884859645)\n",
      "('pointed', 0.031557269537703624)\n",
      "('.', 0.020304354622756756)\n",
      "('have', 0.020022292343719574)\n",
      "('one', 0.017358166146691972)\n",
      "(',', 0.01662961312137644)\n",
      "= = = =\n",
      "('If', 0.07518250299194658)\n",
      "(\"'Top\", 0.06475048904698792)\n",
      "('MD', 0.05419099909556529)\n",
      "('you', 0.04852467506740197)\n",
      "('MD', 0.04449650250990746)\n",
      "('upon', 0.0419487703880021)\n",
      "('you', 0.04151044954420908)\n",
      "('David', 0.04023684813824925)\n",
      "('second', 0.03638036577458377)\n",
      "('Lynch', 0.03518438619843494)\n",
      "('only', 0.03258168921853159)\n",
      "('looking', 0.03137011241201053)\n",
      "('but', 0.03127181561603281)\n",
      "('10', 0.030422111912676263)\n",
      "('at', 0.0281072616016918)\n",
      "('OOV', 0.02728099677046749)\n",
      "(\"'s\", 0.0266013371592213)\n",
      "('OOV', 0.026374093388148785)\n",
      "('DVD', 0.026302646849717948)\n",
      "(',', 0.02547532142461729)\n",
      "('to', 0.025422107083285496)\n",
      "('of', 0.0253194923005131)\n",
      "('by', 0.02494664145146685)\n",
      "('can', 0.024435698566606597)\n",
      "('OOV', 0.0236860020125815)\n",
      "(\"'\", 0.02308395534361635)\n",
      "(\"'\", 0.022986796289647646)\n",
      "('have', 0.022076639709414765)\n",
      "('(', 0.020220629143490636)\n",
      "('the', 0.01962866285519386)\n",
      "= = = =\n",
      "('brilliant', 0.24184991476529488)\n",
      "('downright', 0.09772615819745148)\n",
      "(';', 0.04289338835559455)\n",
      "('Drive', 0.03808084967465284)\n",
      "(')', 0.03147399069589412)\n",
      "('Mulholland', 0.03140780447112672)\n",
      "('First', 0.030734384263448298)\n",
      "('is', 0.024464713602561104)\n",
      "('all', 0.023741180656654152)\n",
      "('.', 0.02367734965019577)\n",
      "('of', 0.02138325310386187)\n",
      "(',', 0.016961549080733267)\n",
      "= = = =\n",
      "('masterpiece', 0.2592358530839896)\n",
      "('A', 0.08229242227137283)\n",
      "('.', 0.026650492154742453)\n",
      "= = = =\n",
      "('of', 0.1586793114904022)\n",
      "('kind', 0.11792766263181181)\n",
      "('the', 0.0624185052234133)\n",
      "('head', 0.0488389311648476)\n",
      "('movie', 0.047476613340148154)\n",
      "('refuse', 0.03999564551966031)\n",
      "('that', 0.028947218254733925)\n",
      "('is', 0.028696855183474188)\n",
      "('your', 0.026562942648447958)\n",
      "('This', 0.023240502548163244)\n",
      "('to', 0.02189688976597454)\n",
      "('leave', 0.018169949697751927)\n",
      "('.', 0.014952449054283556)\n",
      "= = = =\n"
     ]
    }
   ],
   "execution_count": 69
  },
  {
   "metadata": {
    "ExecuteTime": {
     "end_time": "2024-10-12T22:44:03.795164Z",
     "start_time": "2024-10-12T22:44:03.640795Z"
    }
   },
   "cell_type": "code",
   "source": [
    "def plot_word_attention_coeffs(text_word_coeffs):\n",
    "     # Sort the word-attention pairs based on the attention score (descending order)\n",
    "    sorted_word_attention = sorted(text_word_coeffs, key=operator.itemgetter(1), reverse=True)\n",
    "    \n",
    "    # Unpack the sorted words and their corresponding attention coefficients\n",
    "    words, attention_scores = zip(*text_word_coeffs)\n",
    "\n",
    "    # Plot word-level attention using seaborn\n",
    "    plt.figure(figsize=(12, 4))\n",
    "    sns.barplot(x=list(words), y=list(attention_scores), palette=\"Blues_d\")\n",
    "    plt.title('Word-Level Attention Scores for Selected Sentence')\n",
    "    plt.xlabel('Word')\n",
    "    plt.ylabel('Attention Score')\n",
    "    plt.xticks(rotation=45)\n",
    "    plt.show()\n",
    "\n",
    "plot_word_attention_coeffs(text_word_coeffs[-3])"
   ],
   "outputs": [
    {
     "name": "stderr",
     "output_type": "stream",
     "text": [
      "/tmp/ipykernel_386736/4106359985.py:10: FutureWarning: \n",
      "\n",
      "Passing `palette` without assigning `hue` is deprecated and will be removed in v0.14.0. Assign the `x` variable to `hue` and set `legend=False` for the same effect.\n",
      "\n",
      "  sns.barplot(x=list(words), y=list(attention_scores), palette=\"Blues_d\")\n"
     ]
    },
    {
     "data": {
      "text/plain": [
       "<Figure size 1200x400 with 1 Axes>"
      ],
      "image/png": "[encoded data removed]"
     },
     "metadata": {},
     "output_type": "display_data"
    }
   ],
   "execution_count": 82
  },
  {
   "cell_type": "markdown",
   "metadata": {
    "id": "C9JblVhaHlsu"
   },
   "source": []
  }
 ],
 "metadata": {
  "colab": {
   "provenance": []
  },
  "kernelspec": {
   "display_name": "Python 3 (ipykernel)",
   "name": "python3",
   "language": "python"
  },
  "language_info": {
   "codemirror_mode": {
    "name": "ipython",
    "version": 3
   },
   "file_extension": ".py",
   "mimetype": "text/x-python",
   "name": "python",
   "nbconvert_exporter": "python",
   "pygments_lexer": "ipython3",
   "version": "3.9.10"
  },
  "vscode": {
   "interpreter": {
    "hash": "b0fa6594d8f4cbf19f97940f81e996739fb7646882a419484c72d19e05852a7e"
   }
  }
 },
 "nbformat": 4,
 "nbformat_minor": 0
}
