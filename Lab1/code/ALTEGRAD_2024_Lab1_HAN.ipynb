{
 "cells": [
  {
   "cell_type": "markdown",
   "metadata": {
    "id": "MuVouapRmjEW"
   },
   "source": [
    "<center>   \n",
    "<h3> </h3>\n",
    "<h2>ALTeGraD 2024<br>Lab Session 1: HAN</h2>\n",
    "\n",
    "<h3>Hierarchical Attention Network Using GRU</h3> 8 / 10 / 2024<br> Dr. Guokan Shang, Yang Zhang<br><br>\n",
    "\n",
    "\n",
    "<b>Student name:</b> [Emilio PICARD]\n",
    "\n",
    "\n",
    "</center>\n",
    "In this lab, you will get familiar with recurrent neural networks (RNNs), self-attention, and the HAN architecture <b>(Yang et al. 2016)</b> using PyTorch. In this architecture, sentence embeddings are first individually produced, and a document embedding is then computed from the sentence embeddings.<br>\n",
    "<b>The deadline for this lab is October 15, 2024 11:59 PM.</b> More details about the submission and the architecture for this lab can be found in the handout PDF.\n"
   ]
  },
  {
   "cell_type": "markdown",
   "metadata": {
    "id": "xJaSJaIP1xRy"
   },
   "source": [
    "### = = = = =  Attention Layer = = = = =\n",
    "In thi section, you will fill the gaps in the code to implement the self-attention layer. This layer will be used later to define the HAN architecture. The basic idea behind attention is that rather than considering the last annotation $h_T$ as a summary of the entire sequence, which is prone to information loss, the annotations at <i>all</i> time steps are used.\n",
    "The self-attention mechanism computes a weighted sum of the annotations, where the weights are determined by trainable parameters. Refer to <b>section 2.2</b> in the handout for the theoretical part, it will be needed to finish the first task.\n",
    "\n",
    "#### <b>Task 1:</b>"
   ]
  },
  {
   "cell_type": "markdown",
   "metadata": {},
   "source": [
    "**Please run `pip install -r requirements.txt` in a terminal.**"
   ]
  },
  {
   "cell_type": "code",
   "execution_count": 1,
   "metadata": {
    "id": "yoM7H0KQncpF",
    "jupyter": {
     "is_executing": true
    }
   },
   "outputs": [],
   "source": [
    "import torch\n",
    "from torch import nn\n",
    "from torch.onnx.symbolic_opset9 import tensor\n",
    "from torch.utils.data import DataLoader\n",
    "\n",
    "class AttentionWithContext(nn.Module):\n",
    "    \"\"\"\n",
    "    Follows the work of Yang et al. [https://www.cs.cmu.edu/~diyiy/docs/naacl16.pdf]\n",
    "    \"Hierarchical Attention Networks for Document Classification\"\n",
    "    by using a context vector to assist the attention\n",
    "    # Input shape\n",
    "        3D tensor with shape: `(samples, steps, features)`.\n",
    "    # Output shape\n",
    "        2D tensor with shape: `(samples, features)`.\n",
    "    \"\"\"\n",
    "\n",
    "    def __init__(self, input_shape, return_coefficients=False, bias=True):\n",
    "        super(AttentionWithContext, self).__init__()\n",
    "        self.return_coefficients = return_coefficients\n",
    "\n",
    "        self.W = nn.Linear(input_shape, input_shape, bias=bias)\n",
    "        self.tanh = nn.Tanh()\n",
    "        self.u = nn.Linear(input_shape, 1, bias=False)\n",
    "\n",
    "        self.init_weights()\n",
    "\n",
    "    def init_weights(self):\n",
    "        initrange = 0.1\n",
    "        self.W.weight.data.uniform_(-initrange, initrange)\n",
    "        self.W.bias.data.uniform_(-initrange, initrange)\n",
    "        self.u.weight.data.uniform_(-initrange, initrange)\n",
    "\n",
    "    def generate_square_subsequent_mask(self, sz):\n",
    "        # do not pass the mask to the next layers\n",
    "        mask = (torch.triu(torch.ones(sz, sz)) == 1).transpose(0, 1)\n",
    "        mask = (\n",
    "            mask.float()\n",
    "            .masked_fill(mask == 0, float(\"-inf\"))\n",
    "            .masked_fill(mask == 1, float(0.0))\n",
    "        )\n",
    "        return mask\n",
    "\n",
    "    def forward(self, x, mask=None):\n",
    "        uit = self.W(x) # fill the gap # compute uit = W . x  where x represents ht\n",
    "        uit = self.tanh(uit)\n",
    "        ait = self.u(uit)\n",
    "        a = torch.exp(ait)\n",
    "\n",
    "        # apply mask after the exp. will be re-normalized next\n",
    "        if mask is not None:\n",
    "            a = a*mask.double()\n",
    "\n",
    "        # in some cases especially in the early stages of training the sum may be almost zero\n",
    "        # and this results in NaN's. A workaround is to add a very small positive number ε to the sum.\n",
    "        eps = 1e-9\n",
    "        a = a / (torch.sum(a, axis=1, keepdim=True) + eps)\n",
    "        weighted_input = torch.sum(a * x, dim=1) ### fill the gap ### # compute the attentional vector\n",
    "        if self.return_coefficients:\n",
    "            return weighted_input, a ### [attentional vector, coefficients] ### use torch.sum to compute s\n",
    "        else:\n",
    "            return weighted_input ### attentional vector only ###"
   ]
  },
  {
   "cell_type": "markdown",
   "metadata": {
    "id": "DgTP6GrOHlss"
   },
   "source": [
    "### = = = = = Parameters = = = = =\n",
    "In this section, we define the parameters to use in our training. Such as data path, the embedding dimention <b>d</b>, the GRU layer dimensionality <b>n_units</b>, etc..<br>\n",
    "The parameter <b>device</b> is used to train the model on GPU if it is available. for this purpose, if you are using Google Colab, switch your runtime to a GPU runtime to train the model with a maximum speed.<br>\n",
    "<b>Bonus question:</b> What is the purpose of the parameter <i>my_patience</i>?"
   ]
  },
  {
   "cell_type": "code",
   "execution_count": 2,
   "metadata": {
    "id": "czsVjxgYnczb",
    "jupyter": {
     "is_executing": true
    }
   },
   "outputs": [],
   "source": [
    "import sys\n",
    "import json\n",
    "import operator\n",
    "import numpy as np\n",
    "\n",
    "path_root = ''\n",
    "path_to_data = path_root + 'data/'\n",
    "\n",
    "d = 30 # dimensionality of word embeddings\n",
    "n_units = 50 # RNN layer dimensionality\n",
    "drop_rate = 0.5 # dropout\n",
    "mfw_idx = 2 # index of the most frequent words in the dictionary\n",
    "            # 0 is for the special padding token\n",
    "            # 1 is for the special out-of-vocabulary token\n",
    "\n",
    "padding_idx = 0\n",
    "oov_idx = 1\n",
    "batch_size = 64\n",
    "nb_epochs = 15\n",
    "my_patience = 2 # for early stopping strategy\n",
    "device = torch.device(\"cuda\" if torch.cuda.is_available() else \"cpu\")"
   ]
  },
  {
   "cell_type": "code",
   "execution_count": 3,
   "metadata": {
    "jupyter": {
     "is_executing": true
    }
   },
   "outputs": [
    {
     "data": {
      "text/plain": [
       "device(type='cuda')"
      ]
     },
     "execution_count": 3,
     "metadata": {},
     "output_type": "execute_result"
    }
   ],
   "source": [
    "device"
   ]
  },
  {
   "cell_type": "markdown",
   "metadata": {
    "id": "K8Vot_C7Hlst"
   },
   "source": [
    "### = = = = = Data Loading = = = = =\n",
    "In this section we will use first <b>wget</b> to download the data the we will load it using numpy in the first cell. While in the second cell, we will use these data to define our Pytorch data loader. Note that the data is already preprocessed, tokenized and padded.<br><br>\n",
    "<b>Note: if you are running your notebook on Windows or on MacOS, <i>wget</i> will probably not work if you did not install it manually. In this case, use the provided link to download the data and change the <i>path_to_data</i> in the <i>Parameters</i> section accordingly. Otherwise, you will face no problem on Ubuntu and Google Colab.</b>\n",
    "\n",
    "#### <b>Task 2.1:</b>"
   ]
  },
  {
   "cell_type": "code",
   "execution_count": 4,
   "metadata": {
    "colab": {
     "base_uri": "https://localhost:8080/"
    },
    "id": "UD6hRh0OHlst",
    "jupyter": {
     "is_executing": true
    },
    "outputId": "d3f6bbba-84ea-4cd3-97c9-b35faf29166e"
   },
   "outputs": [
    {
     "name": "stdout",
     "output_type": "stream",
     "text": [
      "Archive:  data.zip\n",
      "replace __MACOSX/._data? [y]es, [n]o, [A]ll, [N]one, [r]ename: ^C\n"
     ]
    }
   ],
   "source": [
    "import urllib.request\n",
    "url = \"https://onedrive.live.com/download?cid=AE69638675180117&resid=AE69638675180117%2199289&authkey=AHgxt3xmgG0Fu5A\"\n",
    "output_file = \"data.zip\"\n",
    "urllib.request.urlretrieve(url, output_file)\n",
    "\n",
    "!unzip data.zip"
   ]
  },
  {
   "cell_type": "code",
   "execution_count": 4,
   "metadata": {
    "jupyter": {
     "is_executing": true
    }
   },
   "outputs": [],
   "source": [
    "my_docs_array_train = np.load(path_to_data + 'docs_train.npy')\n",
    "my_docs_array_test = np.load(path_to_data + 'docs_test.npy')\n",
    "\n",
    "my_labels_array_train = np.load(path_to_data + 'labels_train.npy')\n",
    "my_labels_array_test = np.load(path_to_data + 'labels_test.npy')\n",
    "\n",
    "# load dictionary of word indexes (sorted by decreasing frequency across the corpus)\n",
    "with open(path_to_data + 'word_to_index.json', 'r') as my_file:\n",
    "    word_to_index = json.load(my_file)\n",
    "\n",
    "# invert mapping\n",
    "index_to_word = {v: k for k, v in word_to_index.items()}### fill the gap (use a dict comprehension) ###\n",
    "input_size = my_docs_array_train.shape"
   ]
  },
  {
   "cell_type": "code",
   "execution_count": 5,
   "metadata": {
    "id": "DpsCvmaiJfZc",
    "jupyter": {
     "is_executing": true
    }
   },
   "outputs": [],
   "source": [
    "import numpy\n",
    "import torch\n",
    "from torch.utils.data import DataLoader, Dataset\n",
    "\n",
    "\n",
    "class Dataset_(Dataset):\n",
    "    def __init__(self, x, y):\n",
    "        self.documents = x\n",
    "        self.labels = y\n",
    "\n",
    "    def __len__(self):\n",
    "        return len(self.documents)\n",
    "\n",
    "    def __getitem__(self, index):\n",
    "        document = self.documents[index]\n",
    "        label = self.labels[index]\n",
    "        sample = {\n",
    "            \"document\": torch.tensor(document),\n",
    "            \"label\": torch.tensor(label),\n",
    "            }\n",
    "        return sample\n",
    "\n",
    "\n",
    "def get_loader(x, y, batch_size=32):\n",
    "    dataset = Dataset_(x, y)\n",
    "    data_loader = DataLoader(dataset=dataset,\n",
    "                            batch_size=batch_size,\n",
    "                            shuffle=True,\n",
    "                            pin_memory=True,\n",
    "                            drop_last=True,\n",
    "                            )\n",
    "    return data_loader"
   ]
  },
  {
   "cell_type": "markdown",
   "metadata": {
    "id": "6rzqEGOdHlst"
   },
   "source": [
    "### = = = = = Defining Architecture = = = = =\n",
    "In this section, we define the HAN architecture. We start with <i>AttentionBiGRU</i> module in order to define the sentence encoder (check Figure 3 in the handout). Then, we define the <i>TimeDistributed</i> module to allow us to forward our input (batch of document) as to the sentence encoder as <b>batch of sentences</b>, where each sentence in the document will be considered as a time step. This module also reshape the output to a batch of timesteps representations per document. Finally we define the <b>HAN</b> architecture using <i>TimeDistributed</i>, <i>AttentionWithContext</i> and <i>GRU</i>.\n",
    "\n",
    "#### <b>Task 2.2:</b>"
   ]
  },
  {
   "cell_type": "code",
   "execution_count": 6,
   "metadata": {
    "id": "AMj9j1_pHlst",
    "jupyter": {
     "is_executing": true
    }
   },
   "outputs": [],
   "source": [
    "class AttentionBiGRU(nn.Module):\n",
    "    def __init__(self, input_shape, n_units, index_to_word, dropout=0):\n",
    "        super(AttentionBiGRU, self).__init__()\n",
    "        self.embedding = nn.Embedding(50000,# fill the gap # vocab size\n",
    "                                      d, # dimensionality of embedding space\n",
    "                                      padding_idx=0)\n",
    "        self.dropout = nn.Dropout(drop_rate)\n",
    "        self.gru = nn.GRU(input_size=d,\n",
    "                          hidden_size=n_units,\n",
    "                          num_layers=1,\n",
    "                          bias=True,\n",
    "                          batch_first=True,\n",
    "                          bidirectional=True)\n",
    "        self.attention = AttentionWithContext(2 * n_units,   # fill the gap # the input shape for the attention layer\n",
    "                                              return_coefficients=True)\n",
    "\n",
    "\n",
    "    def forward(self, sent_ints):\n",
    "        sent_wv = self.embedding(sent_ints)\n",
    "        sent_wv_dr = self.dropout(sent_wv)\n",
    "        sent_wa, _ = self.gru(sent_wv_dr) # fill the gap # RNN layer\n",
    "        sent_att_vec, word_att_coeffs = self.attention(sent_wa) # fill the gap # attentional vector for the sent\n",
    "        sent_att_vec_dr = self.dropout(sent_att_vec)\n",
    "        return sent_att_vec_dr, word_att_coeffs\n",
    "\n",
    "class TimeDistributed(nn.Module):\n",
    "    def __init__(self, module, batch_first=False):\n",
    "        super(TimeDistributed, self).__init__()\n",
    "        self.module = module\n",
    "        self.batch_first = batch_first\n",
    "\n",
    "    def forward(self, x):\n",
    "        if len(x.size()) <= 2:\n",
    "            return self.module(x)\n",
    "        # Squash samples and timesteps into a single axis\n",
    "        x_reshape = x.contiguous().view(-1, x.size(-1))  # (samples * timesteps, input_size) (448, 30)\n",
    "        sent_att_vec_dr, word_att_coeffs = self.module(x_reshape)\n",
    "        # We have to reshape the output\n",
    "        if self.batch_first:\n",
    "            sent_att_vec_dr = sent_att_vec_dr.contiguous().view(x.size(0), -1, sent_att_vec_dr.size(-1))  # (samples, timesteps, output_size)\n",
    "            word_att_coeffs = word_att_coeffs.contiguous().view(x.size(0), -1, word_att_coeffs.size(-1))  # (samples, timesteps, output_size)\n",
    "        else:\n",
    "            sent_att_vec_dr = sent_att_vec_dr.view(-1, x.size(1), sent_att_vec_dr.size(-1))  # (timesteps, samples, output_size)\n",
    "            word_att_coeffs = word_att_coeffs.view(-1, x.size(1), word_att_coeffs.size(-1))  # (timesteps, samples, output_size)\n",
    "        return sent_att_vec_dr, word_att_coeffs\n",
    "\n",
    "class HAN(nn.Module):\n",
    "    def __init__(self, input_shape, n_units, index_to_word, dropout=0):\n",
    "        super(HAN, self).__init__()\n",
    "        self.encoder = AttentionBiGRU(input_shape, n_units, index_to_word, dropout)\n",
    "        self.timeDistributed = TimeDistributed(self.encoder, True)\n",
    "        self.dropout = nn.Dropout(drop_rate)\n",
    "        self.gru = nn.GRU(input_size=2 * n_units,# fill the gap # the input shape of GRU layer\n",
    "                          hidden_size=2 * n_units,\n",
    "                          num_layers=1,\n",
    "                          bias=True,\n",
    "                          batch_first=True,\n",
    "                          bidirectional=True)\n",
    "        self.attention = AttentionWithContext(2 * 2 * n_units, # fill the gap # the input shape of between-sentence attention layer\n",
    "                                              return_coefficients=True)\n",
    "        self.lin_out = nn.Linear(n_units * 2 * 2, # fill the gap # the input size of the last linear layer\n",
    "                                 1)\n",
    "        self.preds = nn.Sigmoid()\n",
    "\n",
    "    def forward(self, doc_ints):\n",
    "        sent_att_vecs_dr, word_att_coeffs = self.timeDistributed(doc_ints) # fill the gap # get sentence representation\n",
    "        doc_sa, _ = self.gru(sent_att_vecs_dr)\n",
    "        doc_att_vec, sent_att_coeffs = self.attention(doc_sa)\n",
    "\n",
    "        doc_att_vec_dr = self.dropout(doc_att_vec)\n",
    "        doc_att_vec_dr = self.lin_out(doc_att_vec_dr)\n",
    "        return self.preds(doc_att_vec_dr), word_att_coeffs, sent_att_coeffs\n"
   ]
  },
  {
   "cell_type": "markdown",
   "metadata": {
    "id": "sgreR5AcHlst"
   },
   "source": [
    "### = = = = = Training = = = = =\n",
    "In this section, we have two code cells. In the first one, we define our evaluation function to compute the training and validation accuracies. While in the second one, we define our model, loss and optimizer and train the model over <i>nb_epochs</i>.<br>\n",
    "<b>Bonus task:</b> use <a href=\"https://pytorch.org/tutorials/recipes/recipes/tensorboard_with_pytorch.html\" target=\"_blank\">tensorboard</a> to visualize the loss and the validation accuray during the training.\n",
    "\n",
    "#### <b>Task 2.3:</b>"
   ]
  },
  {
   "cell_type": "code",
   "execution_count": 7,
   "metadata": {
    "id": "ztF2Lkie-C25",
    "jupyter": {
     "is_executing": true
    }
   },
   "outputs": [],
   "source": [
    "def evaluate_accuracy(data_loader, verbose=True):\n",
    "    model.eval()\n",
    "    total_loss = 0.0\n",
    "    ncorrect = ntotal = 0\n",
    "    with torch.no_grad():\n",
    "        for idx, data in enumerate(data_loader):\n",
    "            # inference\n",
    "            output = model(data[\"document\"].to(device))[0]\n",
    "            output = output[:, -1] # only last vector\n",
    "            # total number of examples\n",
    "            ntotal +=  output.shape[0]\n",
    "            # number of correct predictions\n",
    "            predictions = torch.round(output)\n",
    "            ncorrect += torch.sum(predictions == data['label'].to(device)) #fill me # number of correct prediction - hint: use torch.sum\n",
    "        acc = ncorrect.item() / ntotal\n",
    "        if verbose:\n",
    "          print(\"validation accuracy: {:3.2f}\".format(acc*100))\n",
    "        return acc"
   ]
  },
  {
   "cell_type": "code",
   "execution_count": 31,
   "metadata": {
    "colab": {
     "base_uri": "https://localhost:8080/"
    },
    "id": "RRYiKhZEEidb",
    "jupyter": {
     "is_executing": true
    },
    "outputId": "c994432a-8f35-42d6-a1c2-94101d3186fb"
   },
   "outputs": [
    {
     "name": "stdout",
     "output_type": "stream",
     "text": [
      "50\n"
     ]
    }
   ],
   "source": [
    "from tqdm import tqdm\n",
    "\n",
    "model = HAN(input_size, n_units, index_to_word).to(device)\n",
    "model = model.double()\n",
    "print(n_units)\n",
    "lr = 0.001  # learning rate\n",
    "criterion = torch.nn.BCELoss() # fill the gap, use Binary cross entropy from torch.nn: https://pytorch.org/docs/stable/nn.html#loss-functions\n",
    "optimizer = torch.optim.Adam(model.parameters(), lr=lr) #fill me\n",
    "\n",
    "def train(x_train=my_docs_array_train,\n",
    "          y_train=my_labels_array_train,\n",
    "          x_test=my_docs_array_test,\n",
    "          y_test=my_labels_array_test,\n",
    "          word_dict=index_to_word,\n",
    "          batch_size=batch_size):\n",
    "\n",
    "    train_data = get_loader(x_train, y_train, batch_size)\n",
    "    test_data = get_loader(my_docs_array_test, my_labels_array_test, batch_size)\n",
    "\n",
    "    best_validation_acc = 0.0\n",
    "    p = 0 # patience\n",
    "    val_accs = []\n",
    "    train_losses, train_accs = [], []\n",
    "    for epoch in range(1, nb_epochs + 1):\n",
    "        losses = []\n",
    "        accuracies = []\n",
    "        with tqdm(train_data, unit=\"batch\") as tepoch:\n",
    "            for idx, data in enumerate(tepoch):\n",
    "                tepoch.set_description(f\"Epoch {epoch}\")\n",
    "                model.train()\n",
    "                optimizer.zero_grad()\n",
    "                input = data['document'].to(device)\n",
    "                label = data['label'].to(device)\n",
    "                label = label.double()\n",
    "                output = model.forward(input)[0]\n",
    "                output = output[:, -1]\n",
    "                loss = criterion(output, label) # fill the gap # compute the loss\n",
    "                loss.backward()\n",
    "                torch.nn.utils.clip_grad_norm_(model.parameters(), 0.5) # prevent exploding gradient\n",
    "                optimizer.step()\n",
    "\n",
    "                losses.append(loss.item())\n",
    "                accuracy = torch.sum(torch.round(output) == label).item() / batch_size\n",
    "                accuracies.append(accuracy)\n",
    "                tepoch.set_postfix(loss=sum(losses)/len(losses), accuracy=100. * sum(accuracies)/len(accuracies))\n",
    "\n",
    "        # train_acc = evaluate_accuracy(train_data, False)\n",
    "        train_losses.append(sum(losses)/len(losses))\n",
    "        train_accs.append(100. * sum(accuracies)/len(accuracies))\n",
    "        test_acc = evaluate_accuracy(test_data, False)\n",
    "        val_accs.append(test_acc)\n",
    "        print(\"===> Epoch {} Complete: Avg. Loss: {:.4f}, Validation Accuracy: {:3.2f}%\"\n",
    "              .format(epoch, sum(losses)/len(losses), 100.*test_acc))\n",
    "        if test_acc >= best_validation_acc:\n",
    "            best_validation_acc = test_acc\n",
    "            print(\"Validation accuracy improved, saving model...\")\n",
    "            torch.save(model.state_dict(), './best_model.pt')\n",
    "            p = 0\n",
    "            print()\n",
    "        else:\n",
    "            p += 1\n",
    "            if p==my_patience:\n",
    "                print(\"Validation accuracy did not improve for {} epochs, stopping training...\".format(my_patience))\n",
    "    print(\"Loading best checkpoint...\")\n",
    "    model.load_state_dict(torch.load('./best_model.pt'))\n",
    "    model.eval()\n",
    "    print('done.')\n",
    "\n",
    "    return train_losses, train_accs, val_accs"
   ]
  },
  {
   "cell_type": "code",
   "execution_count": 32,
   "metadata": {
    "ExecuteTime": {
     "end_time": "2024-10-12T21:58:02.520347Z",
     "start_time": "2024-10-12T21:52:09.783797Z"
    },
    "colab": {
     "base_uri": "https://localhost:8080/"
    },
    "id": "ZSmRsly9saOn",
    "outputId": "e1e4ef90-e550-4351-bb84-bec92d30130a"
   },
   "outputs": [
    {
     "name": "stderr",
     "output_type": "stream",
     "text": [
      "Epoch 1: 100%|██████████| 390/390 [00:17<00:00, 22.20batch/s, accuracy=59.9, loss=0.657]\n"
     ]
    },
    {
     "name": "stdout",
     "output_type": "stream",
     "text": [
      "===> Epoch 1 Complete: Avg. Loss: 0.6572, Validation Accuracy: 68.59%\n",
      "Validation accuracy improved, saving model...\n",
      "\n"
     ]
    },
    {
     "name": "stderr",
     "output_type": "stream",
     "text": [
      "Epoch 2: 100%|██████████| 390/390 [00:17<00:00, 22.53batch/s, accuracy=70.6, loss=0.567]\n"
     ]
    },
    {
     "name": "stdout",
     "output_type": "stream",
     "text": [
      "===> Epoch 2 Complete: Avg. Loss: 0.5672, Validation Accuracy: 76.21%\n",
      "Validation accuracy improved, saving model...\n",
      "\n"
     ]
    },
    {
     "name": "stderr",
     "output_type": "stream",
     "text": [
      "Epoch 3: 100%|██████████| 390/390 [00:17<00:00, 22.45batch/s, accuracy=75.3, loss=0.505]\n"
     ]
    },
    {
     "name": "stdout",
     "output_type": "stream",
     "text": [
      "===> Epoch 3 Complete: Avg. Loss: 0.5049, Validation Accuracy: 78.89%\n",
      "Validation accuracy improved, saving model...\n",
      "\n"
     ]
    },
    {
     "name": "stderr",
     "output_type": "stream",
     "text": [
      "Epoch 4: 100%|██████████| 390/390 [00:17<00:00, 22.38batch/s, accuracy=78.9, loss=0.454]\n"
     ]
    },
    {
     "name": "stdout",
     "output_type": "stream",
     "text": [
      "===> Epoch 4 Complete: Avg. Loss: 0.4541, Validation Accuracy: 80.78%\n",
      "Validation accuracy improved, saving model...\n",
      "\n"
     ]
    },
    {
     "name": "stderr",
     "output_type": "stream",
     "text": [
      "Epoch 5: 100%|██████████| 390/390 [00:17<00:00, 22.40batch/s, accuracy=80.6, loss=0.425]\n"
     ]
    },
    {
     "name": "stdout",
     "output_type": "stream",
     "text": [
      "===> Epoch 5 Complete: Avg. Loss: 0.4248, Validation Accuracy: 81.76%\n",
      "Validation accuracy improved, saving model...\n",
      "\n"
     ]
    },
    {
     "name": "stderr",
     "output_type": "stream",
     "text": [
      "Epoch 6: 100%|██████████| 390/390 [00:17<00:00, 22.42batch/s, accuracy=82, loss=0.397]  \n"
     ]
    },
    {
     "name": "stdout",
     "output_type": "stream",
     "text": [
      "===> Epoch 6 Complete: Avg. Loss: 0.3971, Validation Accuracy: 82.87%\n",
      "Validation accuracy improved, saving model...\n",
      "\n"
     ]
    },
    {
     "name": "stderr",
     "output_type": "stream",
     "text": [
      "Epoch 7: 100%|██████████| 390/390 [00:17<00:00, 22.22batch/s, accuracy=83.1, loss=0.374]\n"
     ]
    },
    {
     "name": "stdout",
     "output_type": "stream",
     "text": [
      "===> Epoch 7 Complete: Avg. Loss: 0.3736, Validation Accuracy: 83.18%\n",
      "Validation accuracy improved, saving model...\n",
      "\n"
     ]
    },
    {
     "name": "stderr",
     "output_type": "stream",
     "text": [
      "Epoch 8: 100%|██████████| 390/390 [00:17<00:00, 22.52batch/s, accuracy=84.4, loss=0.358]\n"
     ]
    },
    {
     "name": "stdout",
     "output_type": "stream",
     "text": [
      "===> Epoch 8 Complete: Avg. Loss: 0.3584, Validation Accuracy: 83.40%\n",
      "Validation accuracy improved, saving model...\n",
      "\n"
     ]
    },
    {
     "name": "stderr",
     "output_type": "stream",
     "text": [
      "Epoch 9: 100%|██████████| 390/390 [00:17<00:00, 22.07batch/s, accuracy=85.4, loss=0.336]\n"
     ]
    },
    {
     "name": "stdout",
     "output_type": "stream",
     "text": [
      "===> Epoch 9 Complete: Avg. Loss: 0.3360, Validation Accuracy: 83.83%\n",
      "Validation accuracy improved, saving model...\n",
      "\n"
     ]
    },
    {
     "name": "stderr",
     "output_type": "stream",
     "text": [
      "Epoch 10: 100%|██████████| 390/390 [00:17<00:00, 22.60batch/s, accuracy=86.1, loss=0.325]\n"
     ]
    },
    {
     "name": "stdout",
     "output_type": "stream",
     "text": [
      "===> Epoch 10 Complete: Avg. Loss: 0.3249, Validation Accuracy: 84.11%\n",
      "Validation accuracy improved, saving model...\n",
      "\n"
     ]
    },
    {
     "name": "stderr",
     "output_type": "stream",
     "text": [
      "Epoch 11: 100%|██████████| 390/390 [00:17<00:00, 21.97batch/s, accuracy=86.6, loss=0.312]\n"
     ]
    },
    {
     "name": "stdout",
     "output_type": "stream",
     "text": [
      "===> Epoch 11 Complete: Avg. Loss: 0.3118, Validation Accuracy: 84.35%\n",
      "Validation accuracy improved, saving model...\n",
      "\n"
     ]
    },
    {
     "name": "stderr",
     "output_type": "stream",
     "text": [
      "Epoch 12: 100%|██████████| 390/390 [00:17<00:00, 21.71batch/s, accuracy=87.3, loss=0.301]\n"
     ]
    },
    {
     "name": "stdout",
     "output_type": "stream",
     "text": [
      "===> Epoch 12 Complete: Avg. Loss: 0.3005, Validation Accuracy: 84.15%\n"
     ]
    },
    {
     "name": "stderr",
     "output_type": "stream",
     "text": [
      "Epoch 13: 100%|██████████| 390/390 [00:18<00:00, 21.14batch/s, accuracy=88.1, loss=0.285]\n"
     ]
    },
    {
     "name": "stdout",
     "output_type": "stream",
     "text": [
      "===> Epoch 13 Complete: Avg. Loss: 0.2847, Validation Accuracy: 84.52%\n",
      "Validation accuracy improved, saving model...\n",
      "\n"
     ]
    },
    {
     "name": "stderr",
     "output_type": "stream",
     "text": [
      "Epoch 14: 100%|██████████| 390/390 [00:17<00:00, 22.54batch/s, accuracy=88.3, loss=0.281]\n"
     ]
    },
    {
     "name": "stdout",
     "output_type": "stream",
     "text": [
      "===> Epoch 14 Complete: Avg. Loss: 0.2808, Validation Accuracy: 84.60%\n",
      "Validation accuracy improved, saving model...\n",
      "\n"
     ]
    },
    {
     "name": "stderr",
     "output_type": "stream",
     "text": [
      "Epoch 15: 100%|██████████| 390/390 [00:17<00:00, 22.25batch/s, accuracy=89, loss=0.265]  \n"
     ]
    },
    {
     "name": "stdout",
     "output_type": "stream",
     "text": [
      "===> Epoch 15 Complete: Avg. Loss: 0.2652, Validation Accuracy: 84.49%\n",
      "Loading best checkpoint...\n",
      "done.\n"
     ]
    },
    {
     "name": "stderr",
     "output_type": "stream",
     "text": [
      "/tmp/ipykernel_470140/1837176337.py:65: FutureWarning: You are using `torch.load` with `weights_only=False` (the current default value), which uses the default pickle module implicitly. It is possible to construct malicious pickle data which will execute arbitrary code during unpickling (See https://github.com/pytorch/pytorch/blob/main/SECURITY.md#untrusted-models for more details). In a future release, the default value for `weights_only` will be flipped to `True`. This limits the functions that could be executed during unpickling. Arbitrary objects will no longer be allowed to be loaded via this mode unless they are explicitly allowlisted by the user via `torch.serialization.add_safe_globals`. We recommend you start setting `weights_only=True` for any use case where you don't have full control of the loaded file. Please open an issue on GitHub for any issues related to this experimental feature.\n",
      "  model.load_state_dict(torch.load('./best_model.pt'))\n"
     ]
    }
   ],
   "source": [
    "train_loss, train_accs, val_accs = train()"
   ]
  },
  {
   "cell_type": "markdown",
   "metadata": {
    "id": "Dvyr8B5QHlst"
   },
   "source": [
    "### = = = = = Extraction of Attention Coefficients = = = = =\n",
    "In this section, we will extract and display the attention coefficients on two levels: sentence level and word level. To do so, we will extract the corresponding weights from our model.\n",
    "#### <b>Task 3:</b>"
   ]
  },
  {
   "cell_type": "code",
   "execution_count": 40,
   "metadata": {},
   "outputs": [
    {
     "data": {
      "image/png": "[encoded data removed]",
      "text/plain": [
       "<Figure size 640x480 with 1 Axes>"
      ]
     },
     "metadata": {},
     "output_type": "display_data"
    }
   ],
   "source": [
    "import matplotlib.pyplot as plt\n",
    "\n",
    "plt.plot(val_accs, c='orange')\n",
    "plt.grid(True)\n",
    "plt.savefig('../figures/val_accs.pdf')\n"
   ]
  },
  {
   "cell_type": "code",
   "execution_count": 41,
   "metadata": {
    "ExecuteTime": {
     "end_time": "2024-10-12T22:00:33.377819Z",
     "start_time": "2024-10-12T22:00:33.373934Z"
    },
    "id": "UVr8cS4MHlst"
   },
   "outputs": [],
   "source": [
    "# select last review:\n",
    "my_review = my_docs_array_test[-1:,:,:]\n",
    "\n",
    "# convert integer review to text:\n",
    "index_to_word[1] = 'OOV'\n",
    "my_review_text = [[index_to_word[idx] for idx in sent if idx in index_to_word] for sent in my_review.tolist()[0]]"
   ]
  },
  {
   "cell_type": "markdown",
   "metadata": {
    "id": "wHDJ7JiqHlsu"
   },
   "source": [
    "###   &emsp;&emsp;  = = = = = Attention Over Sentences in the Document = = = = ="
   ]
  },
  {
   "cell_type": "code",
   "execution_count": 42,
   "metadata": {
    "ExecuteTime": {
     "end_time": "2024-10-12T22:04:24.413743Z",
     "start_time": "2024-10-12T22:04:24.409524Z"
    }
   },
   "outputs": [
    {
     "data": {
      "text/plain": [
       "(1, 7, 30)"
      ]
     },
     "execution_count": 42,
     "metadata": {},
     "output_type": "execute_result"
    }
   ],
   "source": [
    "my_review.shape"
   ]
  },
  {
   "cell_type": "code",
   "execution_count": 43,
   "metadata": {
    "ExecuteTime": {
     "end_time": "2024-10-12T22:11:40.460708Z",
     "start_time": "2024-10-12T22:11:40.443535Z"
    },
    "id": "yooWg3kkHlsu"
   },
   "outputs": [
    {
     "name": "stdout",
     "output_type": "stream",
     "text": [
      "10.88 There 's a sign on The Lost Highway that says : OOV SPOILERS OOV ( but you already knew that , did n't you ? )\n",
      "11.74 Since there 's a great deal of people that apparently did not get the point of this movie , I 'd like to contribute my interpretation of why the plot\n",
      "9.54 As others have pointed out , one single viewing of this movie is not sufficient .\n",
      "17.9 If you have the DVD of MD , you can OOV ' by looking at David Lynch 's 'Top 10 OOV to OOV MD ' ( but only upon second\n",
      "21.52 ; ) First of all , Mulholland Drive is downright brilliant .\n",
      "18.35 A masterpiece .\n",
      "10.07 This is the kind of movie that refuse to leave your head .\n"
     ]
    }
   ],
   "source": [
    "with torch.no_grad():\n",
    "    sent_coeffs = model.forward(torch.tensor(my_review).to(device))[-1] # fill the gap # get sentence attention coeffs by passing the review to the model - (you need to convert the input torch tensor)\n",
    "sent_coeffs = sent_coeffs[0,:,:]\n",
    "\n",
    "for elt in zip(sent_coeffs[:,0].tolist(),[' '.join(elt) for elt in my_review_text]):\n",
    "    print(round(elt[0]*100,2),elt[1])"
   ]
  },
  {
   "cell_type": "code",
   "execution_count": 51,
   "metadata": {
    "jupyter": {
     "is_executing": true
    }
   },
   "outputs": [
    {
     "name": "stderr",
     "output_type": "stream",
     "text": [
      "/tmp/ipykernel_470140/993290659.py:9: FutureWarning: \n",
      "\n",
      "Passing `palette` without assigning `hue` is deprecated and will be removed in v0.14.0. Assign the `y` variable to `hue` and set `legend=False` for the same effect.\n",
      "\n",
      "  sns.barplot(x=attention_scores, y=sentences, orient='h', palette=\"Blues_d\")\n"
     ]
    },
    {
     "data": {
      "image/png": "[encoded data removed]",
      "text/plain": [
       "<Figure size 1000x600 with 1 Axes>"
      ]
     },
     "metadata": {},
     "output_type": "display_data"
    }
   ],
   "source": [
    "import matplotlib.pyplot as plt\n",
    "import seaborn as sns\n",
    "\n",
    "def plot_attention_coeffs(sent_coeffs, my_review_text):\n",
    "    attention_scores = sent_coeffs[:, 0].tolist()\n",
    "    sentences = [' '.join(elt) for elt in my_review_text]\n",
    "\n",
    "    plt.figure(figsize=(10, 6))\n",
    "    sns.barplot(x=attention_scores, y=sentences, orient='h', palette=\"Blues_d\")\n",
    "    plt.title('Sentence-Level Attention Scores')\n",
    "    plt.xlabel('Attention Score')\n",
    "    plt.ylabel('Sentence')\n",
    "    plt.savefig('../figures/Sentence_attention_scores.pdf', bbox_inches='tight')\n",
    "    plt.show()\n",
    "\n",
    "plot_attention_coeffs(sent_coeffs, my_review_text)"
   ]
  },
  {
   "cell_type": "markdown",
   "metadata": {
    "id": "rII-DNrKHlsu"
   },
   "source": [
    "### &emsp;&emsp; = = = = = Attention Over Words in Each Sentence = = = = ="
   ]
  },
  {
   "cell_type": "code",
   "execution_count": 46,
   "metadata": {
    "ExecuteTime": {
     "end_time": "2024-10-12T22:34:31.569333Z",
     "start_time": "2024-10-12T22:34:31.549648Z"
    },
    "colab": {
     "base_uri": "https://localhost:8080/"
    },
    "id": "JyFjAga6Hlsu",
    "outputId": "d9640e73-a3a1-4745-b215-d55470036a3c"
   },
   "outputs": [
    {
     "name": "stdout",
     "output_type": "stream",
     "text": [
      "[('This', 0.040727193971677164), ('is', 0.03381715087665491), ('the', 0.03023995060900913), ('kind', 0.17112035079631494), ('of', 0.06098292542091545), ('movie', 0.04041752865224723), ('that', 0.04414395304941297), ('refuse', 0.057676273605876724), ('to', 0.02868191383484444), ('leave', 0.05117235313413554), ('your', 0.02867708089924422), ('head', 0.05764659614762494), ('.', 0.02091478246741108)]\n",
      "('There', 0.08993882705389676)\n",
      "(\"'s\", 0.03316616071366989)\n",
      "('a', 0.042551216990244105)\n",
      "('sign', 0.0558211771409098)\n",
      "('on', 0.031973145194708764)\n",
      "('The', 0.03431884383632084)\n",
      "('Lost', 0.046168350056894195)\n",
      "('Highway', 0.039330809216448395)\n",
      "('that', 0.03278108097535222)\n",
      "('says', 0.03460604454545986)\n",
      "(':', 0.02745850633808527)\n",
      "('OOV', 0.02218964510622139)\n",
      "('SPOILERS', 0.031551296874348)\n",
      "('OOV', 0.026941728015523723)\n",
      "('(', 0.03266321338883247)\n",
      "('but', 0.026895532245316572)\n",
      "('you', 0.03773614705260023)\n",
      "('already', 0.04834516438583522)\n",
      "('knew', 0.04336160464222836)\n",
      "('that', 0.025667609235911253)\n",
      "(',', 0.014956929454857876)\n",
      "('did', 0.019604198779590718)\n",
      "(\"n't\", 0.02379578976824919)\n",
      "('you', 0.038189969199788974)\n",
      "('?', 0.02389328186824498)\n",
      "(')', 0.024941389660896453)\n",
      "= = = =\n",
      "('Since', 0.0619013415998186)\n",
      "('there', 0.059735233557031045)\n",
      "(\"'s\", 0.04848090230295576)\n",
      "('a', 0.07530962659381756)\n",
      "('great', 0.07551613393938819)\n",
      "('deal', 0.025740227182563774)\n",
      "('of', 0.020278578604137044)\n",
      "('people', 0.02497226277783677)\n",
      "('that', 0.01796875614070097)\n",
      "('apparently', 0.01813338046943381)\n",
      "('did', 0.015794432613357126)\n",
      "('not', 0.017886898007122093)\n",
      "('get', 0.01489848338222589)\n",
      "('the', 0.012989028189915892)\n",
      "('point', 0.04215841495482071)\n",
      "('of', 0.014597108162196039)\n",
      "('this', 0.018955351287753823)\n",
      "('movie', 0.02545547867974296)\n",
      "(',', 0.017769874119266074)\n",
      "('I', 0.018444772815913477)\n",
      "(\"'d\", 0.046233184693830844)\n",
      "('like', 0.04248585256729677)\n",
      "('to', 0.025766798622260667)\n",
      "('contribute', 0.05060985416977175)\n",
      "('my', 0.03415892263419889)\n",
      "('interpretation', 0.03704680952289077)\n",
      "('of', 0.01801828768069764)\n",
      "('why', 0.030391150005177434)\n",
      "('the', 0.019406459934243128)\n",
      "('plot', 0.06889639469317124)\n",
      "= = = =\n",
      "('As', 0.06091061606120257)\n",
      "('others', 0.06233987178229939)\n",
      "('have', 0.057625081635255364)\n",
      "('pointed', 0.0322516153911788)\n",
      "('out', 0.028152508928646236)\n",
      "(',', 0.01645077139677384)\n",
      "('one', 0.02354488228013743)\n",
      "('single', 0.06443430850744962)\n",
      "('viewing', 0.031702949879968356)\n",
      "('of', 0.01927202770674216)\n",
      "('this', 0.03254634547516922)\n",
      "('movie', 0.044711518016354805)\n",
      "('is', 0.04350066506558975)\n",
      "('not', 0.06916273488436776)\n",
      "('sufficient', 0.0687517388308255)\n",
      "('.', 0.02350008843227985)\n",
      "= = = =\n",
      "('If', 0.049074667880511)\n",
      "('you', 0.037001415826533546)\n",
      "('have', 0.04052181360176746)\n",
      "('the', 0.02015067596919524)\n",
      "('DVD', 0.05475821011582143)\n",
      "('of', 0.02524817380489678)\n",
      "('MD', 0.025236134329040694)\n",
      "(',', 0.017914192637154085)\n",
      "('you', 0.023401882505939824)\n",
      "('can', 0.018447208782883587)\n",
      "('OOV', 0.01835659429672962)\n",
      "(\"'\", 0.021757495012970317)\n",
      "('by', 0.0304754645032212)\n",
      "('looking', 0.03191177127920084)\n",
      "('at', 0.027549919139800583)\n",
      "('David', 0.03030337881369086)\n",
      "('Lynch', 0.038698718910830106)\n",
      "(\"'s\", 0.041701369104350614)\n",
      "(\"'Top\", 0.0890959055075286)\n",
      "('10', 0.031178257495092183)\n",
      "('OOV', 0.02438071967013902)\n",
      "('to', 0.02218845204808716)\n",
      "('OOV', 0.031417429195790235)\n",
      "('MD', 0.03749100053742922)\n",
      "(\"'\", 0.02799565166352334)\n",
      "('(', 0.031029846461285874)\n",
      "('but', 0.020510630674154203)\n",
      "('only', 0.03613543604081153)\n",
      "('upon', 0.053800123084507746)\n",
      "('second', 0.04226746099459923)\n",
      "= = = =\n",
      "(';', 0.031102496463250986)\n",
      "(')', 0.04414587963631557)\n",
      "('First', 0.09725815817376769)\n",
      "('of', 0.013968071071625881)\n",
      "('all', 0.012811917345646278)\n",
      "(',', 0.014472293832534422)\n",
      "('Mulholland', 0.024640557821269046)\n",
      "('Drive', 0.030863328824290118)\n",
      "('is', 0.05888985906885388)\n",
      "('downright', 0.28410372456060956)\n",
      "('brilliant', 0.13737041860013754)\n",
      "('.', 0.02438503288548271)\n",
      "= = = =\n",
      "('A', 0.13926463115841992)\n",
      "('masterpiece', 0.2291080613486815)\n",
      "('.', 0.047764707661852174)\n",
      "= = = =\n",
      "('This', 0.040727193971677164)\n",
      "('is', 0.03381715087665491)\n",
      "('the', 0.03023995060900913)\n",
      "('kind', 0.17112035079631494)\n",
      "('of', 0.06098292542091545)\n",
      "('movie', 0.04041752865224723)\n",
      "('that', 0.04414395304941297)\n",
      "('refuse', 0.057676273605876724)\n",
      "('to', 0.02868191383484444)\n",
      "('leave', 0.05117235313413554)\n",
      "('your', 0.02867708089924422)\n",
      "('head', 0.05764659614762494)\n",
      "('.', 0.02091478246741108)\n",
      "= = = =\n",
      "('There', 0.08993882705389676)\n",
      "('sign', 0.0558211771409098)\n",
      "('already', 0.04834516438583522)\n",
      "('Lost', 0.046168350056894195)\n",
      "('knew', 0.04336160464222836)\n",
      "('a', 0.042551216990244105)\n",
      "('Highway', 0.039330809216448395)\n",
      "('you', 0.038189969199788974)\n",
      "('you', 0.03773614705260023)\n",
      "('says', 0.03460604454545986)\n",
      "('The', 0.03431884383632084)\n",
      "(\"'s\", 0.03316616071366989)\n",
      "('that', 0.03278108097535222)\n",
      "('(', 0.03266321338883247)\n",
      "('on', 0.031973145194708764)\n",
      "('SPOILERS', 0.031551296874348)\n",
      "(':', 0.02745850633808527)\n",
      "('OOV', 0.026941728015523723)\n",
      "('but', 0.026895532245316572)\n",
      "('that', 0.025667609235911253)\n",
      "(')', 0.024941389660896453)\n",
      "('?', 0.02389328186824498)\n",
      "(\"n't\", 0.02379578976824919)\n",
      "('OOV', 0.02218964510622139)\n",
      "('did', 0.019604198779590718)\n",
      "(',', 0.014956929454857876)\n",
      "= = = =\n",
      "('great', 0.07551613393938819)\n",
      "('a', 0.07530962659381756)\n",
      "('plot', 0.06889639469317124)\n",
      "('Since', 0.0619013415998186)\n",
      "('there', 0.059735233557031045)\n",
      "('contribute', 0.05060985416977175)\n",
      "(\"'s\", 0.04848090230295576)\n",
      "(\"'d\", 0.046233184693830844)\n",
      "('like', 0.04248585256729677)\n",
      "('point', 0.04215841495482071)\n",
      "('interpretation', 0.03704680952289077)\n",
      "('my', 0.03415892263419889)\n",
      "('why', 0.030391150005177434)\n",
      "('to', 0.025766798622260667)\n",
      "('deal', 0.025740227182563774)\n",
      "('movie', 0.02545547867974296)\n",
      "('people', 0.02497226277783677)\n",
      "('of', 0.020278578604137044)\n",
      "('the', 0.019406459934243128)\n",
      "('this', 0.018955351287753823)\n",
      "('I', 0.018444772815913477)\n",
      "('apparently', 0.01813338046943381)\n",
      "('of', 0.01801828768069764)\n",
      "('that', 0.01796875614070097)\n",
      "('not', 0.017886898007122093)\n",
      "(',', 0.017769874119266074)\n",
      "('did', 0.015794432613357126)\n",
      "('get', 0.01489848338222589)\n",
      "('of', 0.014597108162196039)\n",
      "('the', 0.012989028189915892)\n",
      "= = = =\n",
      "('not', 0.06916273488436776)\n",
      "('sufficient', 0.0687517388308255)\n",
      "('single', 0.06443430850744962)\n",
      "('others', 0.06233987178229939)\n",
      "('As', 0.06091061606120257)\n",
      "('have', 0.057625081635255364)\n",
      "('movie', 0.044711518016354805)\n",
      "('is', 0.04350066506558975)\n",
      "('this', 0.03254634547516922)\n",
      "('pointed', 0.0322516153911788)\n",
      "('viewing', 0.031702949879968356)\n",
      "('out', 0.028152508928646236)\n",
      "('one', 0.02354488228013743)\n",
      "('.', 0.02350008843227985)\n",
      "('of', 0.01927202770674216)\n",
      "(',', 0.01645077139677384)\n",
      "= = = =\n",
      "(\"'Top\", 0.0890959055075286)\n",
      "('DVD', 0.05475821011582143)\n",
      "('upon', 0.053800123084507746)\n",
      "('If', 0.049074667880511)\n",
      "('second', 0.04226746099459923)\n",
      "(\"'s\", 0.041701369104350614)\n",
      "('have', 0.04052181360176746)\n",
      "('Lynch', 0.038698718910830106)\n",
      "('MD', 0.03749100053742922)\n",
      "('you', 0.037001415826533546)\n",
      "('only', 0.03613543604081153)\n",
      "('looking', 0.03191177127920084)\n",
      "('OOV', 0.031417429195790235)\n",
      "('10', 0.031178257495092183)\n",
      "('(', 0.031029846461285874)\n",
      "('by', 0.0304754645032212)\n",
      "('David', 0.03030337881369086)\n",
      "(\"'\", 0.02799565166352334)\n",
      "('at', 0.027549919139800583)\n",
      "('of', 0.02524817380489678)\n",
      "('MD', 0.025236134329040694)\n",
      "('OOV', 0.02438071967013902)\n",
      "('you', 0.023401882505939824)\n",
      "('to', 0.02218845204808716)\n",
      "(\"'\", 0.021757495012970317)\n",
      "('but', 0.020510630674154203)\n",
      "('the', 0.02015067596919524)\n",
      "('can', 0.018447208782883587)\n",
      "('OOV', 0.01835659429672962)\n",
      "(',', 0.017914192637154085)\n",
      "= = = =\n",
      "('downright', 0.28410372456060956)\n",
      "('brilliant', 0.13737041860013754)\n",
      "('First', 0.09725815817376769)\n",
      "('is', 0.05888985906885388)\n",
      "(')', 0.04414587963631557)\n",
      "(';', 0.031102496463250986)\n",
      "('Drive', 0.030863328824290118)\n",
      "('Mulholland', 0.024640557821269046)\n",
      "('.', 0.02438503288548271)\n",
      "(',', 0.014472293832534422)\n",
      "('of', 0.013968071071625881)\n",
      "('all', 0.012811917345646278)\n",
      "= = = =\n",
      "('masterpiece', 0.2291080613486815)\n",
      "('A', 0.13926463115841992)\n",
      "('.', 0.047764707661852174)\n",
      "= = = =\n",
      "('kind', 0.17112035079631494)\n",
      "('of', 0.06098292542091545)\n",
      "('refuse', 0.057676273605876724)\n",
      "('head', 0.05764659614762494)\n",
      "('leave', 0.05117235313413554)\n",
      "('that', 0.04414395304941297)\n",
      "('This', 0.040727193971677164)\n",
      "('movie', 0.04041752865224723)\n",
      "('is', 0.03381715087665491)\n",
      "('the', 0.03023995060900913)\n",
      "('to', 0.02868191383484444)\n",
      "('your', 0.02867708089924422)\n",
      "('.', 0.02091478246741108)\n",
      "= = = =\n"
     ]
    }
   ],
   "source": [
    "word_coeffs = model.forward(torch.tensor(my_review).to(device))[1] # fill the gap # get words attention coeffs by passing the review to the model - (you need to convert the inout torch tensor)\n",
    "\n",
    "word_coeffs_list = word_coeffs.reshape(7,30).tolist()\n",
    "\n",
    "# match text and coefficients:\n",
    "text_word_coeffs = [list(zip(words,word_coeffs_list[idx][:len(words)])) for idx,words in enumerate(my_review_text)]\n",
    "print(text_word_coeffs[-1])\n",
    "\n",
    "for sent in text_word_coeffs:\n",
    "    [print(elt) for elt in sent]\n",
    "    print('= = = =')\n",
    "\n",
    "# sort words by importance within each sentence:\n",
    "text_word_coeffs_sorted = [sorted(elt,key=operator.itemgetter(1),reverse=True) for elt in text_word_coeffs]\n",
    "\n",
    "for sent in text_word_coeffs_sorted:\n",
    "    [print(elt) for elt in sent]\n",
    "    print('= = = =')"
   ]
  },
  {
   "cell_type": "code",
   "execution_count": 48,
   "metadata": {
    "ExecuteTime": {
     "end_time": "2024-10-12T22:44:03.795164Z",
     "start_time": "2024-10-12T22:44:03.640795Z"
    }
   },
   "outputs": [
    {
     "name": "stderr",
     "output_type": "stream",
     "text": [
      "/tmp/ipykernel_470140/2478311608.py:10: FutureWarning: \n",
      "\n",
      "Passing `palette` without assigning `hue` is deprecated and will be removed in v0.14.0. Assign the `x` variable to `hue` and set `legend=False` for the same effect.\n",
      "\n",
      "  sns.barplot(x=list(words), y=list(attention_scores), palette=\"Blues_d\")\n"
     ]
    },
    {
     "data": {
      "image/png": "[encoded data removed]",
      "text/plain": [
       "<Figure size 1200x400 with 1 Axes>"
      ]
     },
     "metadata": {},
     "output_type": "display_data"
    }
   ],
   "source": [
    "def plot_word_attention_coeffs(text_word_coeffs):\n",
    "     # Sort the word-attention pairs based on the attention score (descending order)\n",
    "    sorted_word_attention = sorted(text_word_coeffs, key=operator.itemgetter(1), reverse=True)\n",
    "    \n",
    "    # Unpack the sorted words and their corresponding attention coefficients\n",
    "    words, attention_scores = zip(*text_word_coeffs)\n",
    "\n",
    "    # Plot word-level attention using seaborn\n",
    "    plt.figure(figsize=(12, 4))\n",
    "    sns.barplot(x=list(words), y=list(attention_scores), palette=\"Blues_d\")\n",
    "    plt.title('Word-Level Attention Scores for Selected Sentence')\n",
    "    plt.xlabel('Word')\n",
    "    plt.ylabel('Attention Score')\n",
    "    plt.xticks(rotation=45)\n",
    "    plt.savefig('../figures/word_attention_scores.pdf')\n",
    "    plt.show()\n",
    "\n",
    "plot_word_attention_coeffs(text_word_coeffs[-3])"
   ]
  },
  {
   "cell_type": "code",
   "execution_count": 49,
   "metadata": {},
   "outputs": [],
   "source": [
    "with torch.no_grad():\n",
    "    prediction = model.forward(torch.tensor(my_review).to(device))[0] "
   ]
  },
  {
   "cell_type": "code",
   "execution_count": 50,
   "metadata": {},
   "outputs": [
    {
     "data": {
      "text/plain": [
       "tensor([[0.9386]], device='cuda:0', dtype=torch.float64)"
      ]
     },
     "execution_count": 50,
     "metadata": {},
     "output_type": "execute_result"
    }
   ],
   "source": [
    "prediction"
   ]
  },
  {
   "cell_type": "markdown",
   "metadata": {
    "id": "C9JblVhaHlsu"
   },
   "source": []
  }
 ],
 "metadata": {
  "colab": {
   "provenance": []
  },
  "kernelspec": {
   "display_name": "Python 3",
   "language": "python",
   "name": "python3"
  },
  "language_info": {
   "codemirror_mode": {
    "name": "ipython",
    "version": 3
   },
   "file_extension": ".py",
   "mimetype": "text/x-python",
   "name": "python",
   "nbconvert_exporter": "python",
   "pygments_lexer": "ipython3",
   "version": "3.10.12"
  }
 },
 "nbformat": 4,
 "nbformat_minor": 0
}
