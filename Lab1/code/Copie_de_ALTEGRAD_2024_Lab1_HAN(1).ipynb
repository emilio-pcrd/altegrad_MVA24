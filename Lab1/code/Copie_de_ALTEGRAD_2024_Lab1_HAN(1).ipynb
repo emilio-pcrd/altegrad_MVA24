{
 "cells": [
  {
   "cell_type": "markdown",
   "metadata": {
    "id": "MuVouapRmjEW"
   },
   "source": [
    "<center>   \n",
    "<h3> </h3>\n",
    "<h2>ALTeGraD 2024<br>Lab Session 1: HAN</h2>\n",
    "\n",
    "<h3>Hierarchical Attention Network Using GRU</h3> 8 / 10 / 2024<br> Dr. Guokan Shang, Yang Zhang<br><br>\n",
    "\n",
    "\n",
    "<b>Student name:</b> [Emilio PICARD]\n",
    "\n",
    "\n",
    "</center>\n",
    "In this lab, you will get familiar with recurrent neural networks (RNNs), self-attention, and the HAN architecture <b>(Yang et al. 2016)</b> using PyTorch. In this architecture, sentence embeddings are first individually produced, and a document embedding is then computed from the sentence embeddings.<br>\n",
    "<b>The deadline for this lab is October 15, 2024 11:59 PM.</b> More details about the submission and the architecture for this lab can be found in the handout PDF.\n"
   ]
  },
  {
   "cell_type": "markdown",
   "metadata": {
    "id": "xJaSJaIP1xRy"
   },
   "source": [
    "### = = = = =  Attention Layer = = = = =\n",
    "In thi section, you will fill the gaps in the code to implement the self-attention layer. This layer will be used later to define the HAN architecture. The basic idea behind attention is that rather than considering the last annotation $h_T$ as a summary of the entire sequence, which is prone to information loss, the annotations at <i>all</i> time steps are used.\n",
    "The self-attention mechanism computes a weighted sum of the annotations, where the weights are determined by trainable parameters. Refer to <b>section 2.2</b> in the handout for the theoretical part, it will be needed to finish the first task.\n",
    "\n",
    "#### <b>Task 1:</b>"
   ]
  },
  {
   "cell_type": "code",
   "execution_count": 1,
   "metadata": {
    "id": "yoM7H0KQncpF",
    "jupyter": {
     "is_executing": true
    }
   },
   "outputs": [],
   "source": [
    "import torch\n",
    "from torch import nn\n",
    "from torch.onnx.symbolic_opset9 import tensor\n",
    "from torch.utils.data import DataLoader\n",
    "\n",
    "class AttentionWithContext(nn.Module):\n",
    "    \"\"\"\n",
    "    Follows the work of Yang et al. [https://www.cs.cmu.edu/~diyiy/docs/naacl16.pdf]\n",
    "    \"Hierarchical Attention Networks for Document Classification\"\n",
    "    by using a context vector to assist the attention\n",
    "    # Input shape\n",
    "        3D tensor with shape: `(samples, steps, features)`.\n",
    "    # Output shape\n",
    "        2D tensor with shape: `(samples, features)`.\n",
    "    \"\"\"\n",
    "\n",
    "    def __init__(self, input_shape, return_coefficients=False, bias=True):\n",
    "        super(AttentionWithContext, self).__init__()\n",
    "        self.return_coefficients = return_coefficients\n",
    "\n",
    "        self.W = nn.Linear(input_shape, input_shape, bias=bias)\n",
    "        self.tanh = nn.Tanh()\n",
    "        self.u = nn.Linear(input_shape, 1, bias=False)\n",
    "\n",
    "        self.init_weights()\n",
    "\n",
    "    def init_weights(self):\n",
    "        initrange = 0.1\n",
    "        self.W.weight.data.uniform_(-initrange, initrange)\n",
    "        self.W.bias.data.uniform_(-initrange, initrange)\n",
    "        self.u.weight.data.uniform_(-initrange, initrange)\n",
    "\n",
    "    def generate_square_subsequent_mask(self, sz):\n",
    "        # do not pass the mask to the next layers\n",
    "        mask = (torch.triu(torch.ones(sz, sz)) == 1).transpose(0, 1)\n",
    "        mask = (\n",
    "            mask.float()\n",
    "            .masked_fill(mask == 0, float(\"-inf\"))\n",
    "            .masked_fill(mask == 1, float(0.0))\n",
    "        )\n",
    "        return mask\n",
    "\n",
    "    def forward(self, x, mask=None):\n",
    "        uit = self.W(x) # fill the gap # compute uit = W . x  where x represents ht\n",
    "        uit = self.tanh(uit)\n",
    "        ait = self.u(uit)\n",
    "        a = torch.exp(ait)\n",
    "\n",
    "        # apply mask after the exp. will be re-normalized next\n",
    "        if mask is not None:\n",
    "            a = a*mask.double()\n",
    "\n",
    "        # in some cases especially in the early stages of training the sum may be almost zero\n",
    "        # and this results in NaN's. A workaround is to add a very small positive number ε to the sum.\n",
    "        eps = 1e-9\n",
    "        a = a / (torch.sum(a, axis=1, keepdim=True) + eps)\n",
    "        weighted_input = torch.sum(a * x, dim=1) ### fill the gap ### # compute the attentional vector\n",
    "        if self.return_coefficients:\n",
    "            return weighted_input, a ### [attentional vector, coefficients] ### use torch.sum to compute s\n",
    "        else:\n",
    "            return weighted_input ### attentional vector only ###"
   ]
  },
  {
   "cell_type": "markdown",
   "metadata": {
    "id": "DgTP6GrOHlss"
   },
   "source": [
    "### = = = = = Parameters = = = = =\n",
    "In this section, we define the parameters to use in our training. Such as data path, the embedding dimention <b>d</b>, the GRU layer dimensionality <b>n_units</b>, etc..<br>\n",
    "The parameter <b>device</b> is used to train the model on GPU if it is available. for this purpose, if you are using Google Colab, switch your runtime to a GPU runtime to train the model with a maximum speed.<br>\n",
    "<b>Bonus question:</b> What is the purpose of the parameter <i>my_patience</i>?"
   ]
  },
  {
   "cell_type": "code",
   "execution_count": 2,
   "metadata": {
    "id": "czsVjxgYnczb",
    "jupyter": {
     "is_executing": true
    }
   },
   "outputs": [],
   "source": [
    "import sys\n",
    "import json\n",
    "import operator\n",
    "import numpy as np\n",
    "\n",
    "path_root = ''\n",
    "path_to_data = path_root + 'data/'\n",
    "\n",
    "d = 30 # dimensionality of word embeddings\n",
    "n_units = 50 # RNN layer dimensionality\n",
    "drop_rate = 0.5 # dropout\n",
    "mfw_idx = 2 # index of the most frequent words in the dictionary\n",
    "            # 0 is for the special padding token\n",
    "            # 1 is for the special out-of-vocabulary token\n",
    "\n",
    "padding_idx = 0\n",
    "oov_idx = 1\n",
    "batch_size = 64\n",
    "nb_epochs = 15\n",
    "my_patience = 2 # for early stopping strategy\n",
    "device = torch.device(\"cuda\" if torch.cuda.is_available() else \"cpu\")"
   ]
  },
  {
   "cell_type": "code",
   "execution_count": 3,
   "metadata": {
    "jupyter": {
     "is_executing": true
    }
   },
   "outputs": [
    {
     "data": {
      "text/plain": [
       "device(type='cuda')"
      ]
     },
     "execution_count": 3,
     "metadata": {},
     "output_type": "execute_result"
    }
   ],
   "source": [
    "device"
   ]
  },
  {
   "cell_type": "markdown",
   "metadata": {
    "id": "K8Vot_C7Hlst"
   },
   "source": [
    "### = = = = = Data Loading = = = = =\n",
    "In this section we will use first <b>wget</b> to download the data the we will load it using numpy in the first cell. While in the second cell, we will use these data to define our Pytorch data loader. Note that the data is already preprocessed, tokenized and padded.<br><br>\n",
    "<b>Note: if you are running your notebook on Windows or on MacOS, <i>wget</i> will probably not work if you did not install it manually. In this case, use the provided link to download the data and change the <i>path_to_data</i> in the <i>Parameters</i> section accordingly. Otherwise, you will face no problem on Ubuntu and Google Colab.</b>\n",
    "\n",
    "#### <b>Task 2.1:</b>"
   ]
  },
  {
   "cell_type": "code",
   "execution_count": 4,
   "metadata": {
    "colab": {
     "base_uri": "https://localhost:8080/"
    },
    "id": "UD6hRh0OHlst",
    "jupyter": {
     "is_executing": true
    },
    "outputId": "d3f6bbba-84ea-4cd3-97c9-b35faf29166e"
   },
   "outputs": [
    {
     "name": "stdout",
     "output_type": "stream",
     "text": [
      "Archive:  data.zip\n",
      "replace __MACOSX/._data? [y]es, [n]o, [A]ll, [N]one, [r]ename: ^C\n"
     ]
    }
   ],
   "source": [
    "import urllib.request\n",
    "url = \"https://onedrive.live.com/download?cid=AE69638675180117&resid=AE69638675180117%2199289&authkey=AHgxt3xmgG0Fu5A\"\n",
    "output_file = \"data.zip\"\n",
    "urllib.request.urlretrieve(url, output_file)\n",
    "\n",
    "!unzip data.zip"
   ]
  },
  {
   "cell_type": "code",
   "execution_count": 5,
   "metadata": {
    "jupyter": {
     "is_executing": true
    }
   },
   "outputs": [],
   "source": [
    "my_docs_array_train = np.load(path_to_data + 'docs_train.npy')\n",
    "my_docs_array_test = np.load(path_to_data + 'docs_test.npy')\n",
    "\n",
    "my_labels_array_train = np.load(path_to_data + 'labels_train.npy')\n",
    "my_labels_array_test = np.load(path_to_data + 'labels_test.npy')\n",
    "\n",
    "# load dictionary of word indexes (sorted by decreasing frequency across the corpus)\n",
    "with open(path_to_data + 'word_to_index.json', 'r') as my_file:\n",
    "    word_to_index = json.load(my_file)\n",
    "\n",
    "# invert mapping\n",
    "index_to_word = {v: k for k, v in word_to_index.items()}### fill the gap (use a dict comprehension) ###\n",
    "input_size = my_docs_array_train.shape"
   ]
  },
  {
   "cell_type": "code",
   "execution_count": 6,
   "metadata": {
    "id": "DpsCvmaiJfZc",
    "jupyter": {
     "is_executing": true
    }
   },
   "outputs": [],
   "source": [
    "import numpy\n",
    "import torch\n",
    "from torch.utils.data import DataLoader, Dataset\n",
    "\n",
    "\n",
    "class Dataset_(Dataset):\n",
    "    def __init__(self, x, y):\n",
    "        self.documents = x\n",
    "        self.labels = y\n",
    "\n",
    "    def __len__(self):\n",
    "        return len(self.documents)\n",
    "\n",
    "    def __getitem__(self, index):\n",
    "        document = self.documents[index]\n",
    "        label = self.labels[index]\n",
    "        sample = {\n",
    "            \"document\": torch.tensor(document),\n",
    "            \"label\": torch.tensor(label),\n",
    "            }\n",
    "        return sample\n",
    "\n",
    "\n",
    "def get_loader(x, y, batch_size=32):\n",
    "    dataset = Dataset_(x, y)\n",
    "    data_loader = DataLoader(dataset=dataset,\n",
    "                            batch_size=batch_size,\n",
    "                            shuffle=True,\n",
    "                            pin_memory=True,\n",
    "                            drop_last=True,\n",
    "                            )\n",
    "    return data_loader"
   ]
  },
  {
   "cell_type": "markdown",
   "metadata": {
    "id": "6rzqEGOdHlst"
   },
   "source": [
    "### = = = = = Defining Architecture = = = = =\n",
    "In this section, we define the HAN architecture. We start with <i>AttentionBiGRU</i> module in order to define the sentence encoder (check Figure 3 in the handout). Then, we define the <i>TimeDistributed</i> module to allow us to forward our input (batch of document) as to the sentence encoder as <b>batch of sentences</b>, where each sentence in the document will be considered as a time step. This module also reshape the output to a batch of timesteps representations per document. Finally we define the <b>HAN</b> architecture using <i>TimeDistributed</i>, <i>AttentionWithContext</i> and <i>GRU</i>.\n",
    "\n",
    "#### <b>Task 2.2:</b>"
   ]
  },
  {
   "cell_type": "code",
   "execution_count": 7,
   "metadata": {
    "id": "AMj9j1_pHlst",
    "jupyter": {
     "is_executing": true
    }
   },
   "outputs": [],
   "source": [
    "class AttentionBiGRU(nn.Module):\n",
    "    def __init__(self, input_shape, n_units, index_to_word, dropout=0):\n",
    "        super(AttentionBiGRU, self).__init__()\n",
    "        self.embedding = nn.Embedding(50000,# fill the gap # vocab size\n",
    "                                      d, # dimensionality of embedding space\n",
    "                                      padding_idx=0)\n",
    "        self.dropout = nn.Dropout(drop_rate)\n",
    "        self.gru = nn.GRU(input_size=d,\n",
    "                          hidden_size=n_units,\n",
    "                          num_layers=1,\n",
    "                          bias=True,\n",
    "                          batch_first=True,\n",
    "                          bidirectional=True)\n",
    "        self.attention = AttentionWithContext(2 * n_units,   # fill the gap # the input shape for the attention layer\n",
    "                                              return_coefficients=True)\n",
    "\n",
    "\n",
    "    def forward(self, sent_ints):\n",
    "        sent_wv = self.embedding(sent_ints)\n",
    "        sent_wv_dr = self.dropout(sent_wv)\n",
    "        sent_wa, _ = self.gru(sent_wv_dr) # fill the gap # RNN layer\n",
    "        sent_att_vec, word_att_coeffs = self.attention(sent_wa) # fill the gap # attentional vector for the sent\n",
    "        sent_att_vec_dr = self.dropout(sent_att_vec)\n",
    "        return sent_att_vec_dr, word_att_coeffs\n",
    "\n",
    "class TimeDistributed(nn.Module):\n",
    "    def __init__(self, module, batch_first=False):\n",
    "        super(TimeDistributed, self).__init__()\n",
    "        self.module = module\n",
    "        self.batch_first = batch_first\n",
    "\n",
    "    def forward(self, x):\n",
    "        if len(x.size()) <= 2:\n",
    "            return self.module(x)\n",
    "        # Squash samples and timesteps into a single axis\n",
    "        x_reshape = x.contiguous().view(-1, x.size(-1))  # (samples * timesteps, input_size) (448, 30)\n",
    "        sent_att_vec_dr, word_att_coeffs = self.module(x_reshape)\n",
    "        # We have to reshape the output\n",
    "        if self.batch_first:\n",
    "            sent_att_vec_dr = sent_att_vec_dr.contiguous().view(x.size(0), -1, sent_att_vec_dr.size(-1))  # (samples, timesteps, output_size)\n",
    "            word_att_coeffs = word_att_coeffs.contiguous().view(x.size(0), -1, word_att_coeffs.size(-1))  # (samples, timesteps, output_size)\n",
    "        else:\n",
    "            sent_att_vec_dr = sent_att_vec_dr.view(-1, x.size(1), sent_att_vec_dr.size(-1))  # (timesteps, samples, output_size)\n",
    "            word_att_coeffs = word_att_coeffs.view(-1, x.size(1), word_att_coeffs.size(-1))  # (timesteps, samples, output_size)\n",
    "        return sent_att_vec_dr, word_att_coeffs\n",
    "\n",
    "class HAN(nn.Module):\n",
    "    def __init__(self, input_shape, n_units, index_to_word, dropout=0):\n",
    "        super(HAN, self).__init__()\n",
    "        self.encoder = AttentionBiGRU(input_shape, n_units, index_to_word, dropout)\n",
    "        self.timeDistributed = TimeDistributed(self.encoder, True)\n",
    "        self.dropout = nn.Dropout(drop_rate)\n",
    "        self.gru = nn.GRU(input_size=2 * n_units,# fill the gap # the input shape of GRU layer\n",
    "                          hidden_size=2 * n_units,\n",
    "                          num_layers=1,\n",
    "                          bias=True,\n",
    "                          batch_first=True,\n",
    "                          bidirectional=True)\n",
    "        self.attention = AttentionWithContext(2 * 2 * n_units, # fill the gap # the input shape of between-sentence attention layer\n",
    "                                              return_coefficients=True)\n",
    "        self.lin_out = nn.Linear(n_units * 2 * 2, # fill the gap # the input size of the last linear layer\n",
    "                                 1)\n",
    "        self.preds = nn.Sigmoid()\n",
    "\n",
    "    def forward(self, doc_ints):\n",
    "        sent_att_vecs_dr, word_att_coeffs = self.timeDistributed(doc_ints) # fill the gap # get sentence representation\n",
    "        doc_sa, _ = self.gru(sent_att_vecs_dr)\n",
    "        doc_att_vec, sent_att_coeffs = self.attention(doc_sa)\n",
    "\n",
    "        doc_att_vec_dr = self.dropout(doc_att_vec)\n",
    "        doc_att_vec_dr = self.lin_out(doc_att_vec_dr)\n",
    "        return self.preds(doc_att_vec_dr), word_att_coeffs, sent_att_coeffs\n"
   ]
  },
  {
   "cell_type": "markdown",
   "metadata": {
    "id": "sgreR5AcHlst"
   },
   "source": [
    "### = = = = = Training = = = = =\n",
    "In this section, we have two code cells. In the first one, we define our evaluation function to compute the training and validation accuracies. While in the second one, we define our model, loss and optimizer and train the model over <i>nb_epochs</i>.<br>\n",
    "<b>Bonus task:</b> use <a href=\"https://pytorch.org/tutorials/recipes/recipes/tensorboard_with_pytorch.html\" target=\"_blank\">tensorboard</a> to visualize the loss and the validation accuray during the training.\n",
    "\n",
    "#### <b>Task 2.3:</b>"
   ]
  },
  {
   "cell_type": "code",
   "execution_count": 8,
   "metadata": {
    "id": "ztF2Lkie-C25",
    "jupyter": {
     "is_executing": true
    }
   },
   "outputs": [],
   "source": [
    "def evaluate_accuracy(data_loader, verbose=True):\n",
    "    model.eval()\n",
    "    total_loss = 0.0\n",
    "    ncorrect = ntotal = 0\n",
    "    with torch.no_grad():\n",
    "        for idx, data in enumerate(data_loader):\n",
    "            # inference\n",
    "            output = model(data[\"document\"].to(device))[0]\n",
    "            output = output[:, -1] # only last vector\n",
    "            # total number of examples\n",
    "            ntotal +=  output.shape[0]\n",
    "            # number of correct predictions\n",
    "            predictions = torch.round(output)\n",
    "            ncorrect += torch.sum(predictions == data['label'].to(device)) #fill me # number of correct prediction - hint: use torch.sum\n",
    "        acc = ncorrect.item() / ntotal\n",
    "        if verbose:\n",
    "          print(\"validation accuracy: {:3.2f}\".format(acc*100))\n",
    "        return acc"
   ]
  },
  {
   "cell_type": "code",
   "execution_count": 9,
   "metadata": {
    "colab": {
     "base_uri": "https://localhost:8080/"
    },
    "id": "RRYiKhZEEidb",
    "jupyter": {
     "is_executing": true
    },
    "outputId": "c994432a-8f35-42d6-a1c2-94101d3186fb"
   },
   "outputs": [
    {
     "name": "stdout",
     "output_type": "stream",
     "text": [
      "50\n"
     ]
    }
   ],
   "source": [
    "from tqdm import tqdm\n",
    "\n",
    "model = HAN(input_size, n_units, index_to_word).to(device)\n",
    "model = model.double()\n",
    "print(n_units)\n",
    "lr = 0.001  # learning rate\n",
    "criterion = torch.nn.BCELoss() # fill the gap, use Binary cross entropy from torch.nn: https://pytorch.org/docs/stable/nn.html#loss-functions\n",
    "optimizer = torch.optim.Adam(model.parameters(), lr=lr) #fill me\n",
    "\n",
    "def train(x_train=my_docs_array_train,\n",
    "          y_train=my_labels_array_train,\n",
    "          x_test=my_docs_array_test,\n",
    "          y_test=my_labels_array_test,\n",
    "          word_dict=index_to_word,\n",
    "          batch_size=batch_size):\n",
    "\n",
    "    train_data = get_loader(x_train, y_train, batch_size)\n",
    "    test_data = get_loader(my_docs_array_test, my_labels_array_test, batch_size)\n",
    "\n",
    "    best_validation_acc = 0.0\n",
    "    p = 0 # patience\n",
    "\n",
    "    for epoch in range(1, nb_epochs + 1):\n",
    "        losses = []\n",
    "        accuracies = []\n",
    "        with tqdm(train_data, unit=\"batch\") as tepoch:\n",
    "            for idx, data in enumerate(tepoch):\n",
    "                tepoch.set_description(f\"Epoch {epoch}\")\n",
    "                model.train()\n",
    "                optimizer.zero_grad()\n",
    "                input = data['document'].to(device)\n",
    "                label = data['label'].to(device)\n",
    "                label = label.double()\n",
    "                output = model.forward(input)[0]\n",
    "                output = output[:, -1]\n",
    "                loss = criterion(output, label) # fill the gap # compute the loss\n",
    "                loss.backward()\n",
    "                torch.nn.utils.clip_grad_norm_(model.parameters(), 0.5) # prevent exploding gradient\n",
    "                optimizer.step()\n",
    "\n",
    "                losses.append(loss.item())\n",
    "                accuracy = torch.sum(torch.round(output) == label).item() / batch_size\n",
    "                accuracies.append(accuracy)\n",
    "                tepoch.set_postfix(loss=sum(losses)/len(losses), accuracy=100. * sum(accuracies)/len(accuracies))\n",
    "\n",
    "        # train_acc = evaluate_accuracy(train_data, False)\n",
    "        test_acc = evaluate_accuracy(test_data, False)\n",
    "        print(\"===> Epoch {} Complete: Avg. Loss: {:.4f}, Validation Accuracy: {:3.2f}%\"\n",
    "              .format(epoch, sum(losses)/len(losses), 100.*test_acc))\n",
    "        if test_acc >= best_validation_acc:\n",
    "            best_validation_acc = test_acc\n",
    "            print(\"Validation accuracy improved, saving model...\")\n",
    "            torch.save(model.state_dict(), './best_model.pt')\n",
    "            p = 0\n",
    "            print()\n",
    "        else:\n",
    "            p += 1\n",
    "            if p==my_patience:\n",
    "                print(\"Validation accuracy did not improve for {} epochs, stopping training...\".format(my_patience))\n",
    "    print(\"Loading best checkpoint...\")\n",
    "    model.load_state_dict(torch.load('./best_model.pt'))\n",
    "    model.eval()\n",
    "    print('done.')"
   ]
  },
  {
   "cell_type": "code",
   "execution_count": 10,
   "metadata": {
    "ExecuteTime": {
     "end_time": "2024-10-12T21:58:02.520347Z",
     "start_time": "2024-10-12T21:52:09.783797Z"
    },
    "colab": {
     "base_uri": "https://localhost:8080/"
    },
    "id": "ZSmRsly9saOn",
    "outputId": "e1e4ef90-e550-4351-bb84-bec92d30130a"
   },
   "outputs": [
    {
     "name": "stderr",
     "output_type": "stream",
     "text": [
      "Epoch 1: 100%|██████████| 390/390 [00:18<00:00, 21.19batch/s, accuracy=60.2, loss=0.655]\n"
     ]
    },
    {
     "name": "stdout",
     "output_type": "stream",
     "text": [
      "===> Epoch 1 Complete: Avg. Loss: 0.6551, Validation Accuracy: 67.98%\n",
      "Validation accuracy improved, saving model...\n",
      "\n"
     ]
    },
    {
     "name": "stderr",
     "output_type": "stream",
     "text": [
      "Epoch 2: 100%|██████████| 390/390 [00:17<00:00, 21.84batch/s, accuracy=70.9, loss=0.56] \n"
     ]
    },
    {
     "name": "stdout",
     "output_type": "stream",
     "text": [
      "===> Epoch 2 Complete: Avg. Loss: 0.5599, Validation Accuracy: 76.86%\n",
      "Validation accuracy improved, saving model...\n",
      "\n"
     ]
    },
    {
     "name": "stderr",
     "output_type": "stream",
     "text": [
      "Epoch 3: 100%|██████████| 390/390 [00:17<00:00, 21.99batch/s, accuracy=75.9, loss=0.496]\n"
     ]
    },
    {
     "name": "stdout",
     "output_type": "stream",
     "text": [
      "===> Epoch 3 Complete: Avg. Loss: 0.4957, Validation Accuracy: 78.81%\n",
      "Validation accuracy improved, saving model...\n",
      "\n"
     ]
    },
    {
     "name": "stderr",
     "output_type": "stream",
     "text": [
      "Epoch 4: 100%|██████████| 390/390 [00:17<00:00, 22.18batch/s, accuracy=78.2, loss=0.46] \n"
     ]
    },
    {
     "name": "stdout",
     "output_type": "stream",
     "text": [
      "===> Epoch 4 Complete: Avg. Loss: 0.4596, Validation Accuracy: 80.56%\n",
      "Validation accuracy improved, saving model...\n",
      "\n"
     ]
    },
    {
     "name": "stderr",
     "output_type": "stream",
     "text": [
      "Epoch 5: 100%|██████████| 390/390 [00:17<00:00, 22.37batch/s, accuracy=80.4, loss=0.427]\n"
     ]
    },
    {
     "name": "stdout",
     "output_type": "stream",
     "text": [
      "===> Epoch 5 Complete: Avg. Loss: 0.4269, Validation Accuracy: 81.27%\n",
      "Validation accuracy improved, saving model...\n",
      "\n"
     ]
    },
    {
     "name": "stderr",
     "output_type": "stream",
     "text": [
      "Epoch 6: 100%|██████████| 390/390 [00:17<00:00, 22.48batch/s, accuracy=82, loss=0.4]    \n"
     ]
    },
    {
     "name": "stdout",
     "output_type": "stream",
     "text": [
      "===> Epoch 6 Complete: Avg. Loss: 0.3998, Validation Accuracy: 81.88%\n",
      "Validation accuracy improved, saving model...\n",
      "\n"
     ]
    },
    {
     "name": "stderr",
     "output_type": "stream",
     "text": [
      "Epoch 7: 100%|██████████| 390/390 [00:17<00:00, 22.37batch/s, accuracy=82.9, loss=0.384]\n"
     ]
    },
    {
     "name": "stdout",
     "output_type": "stream",
     "text": [
      "===> Epoch 7 Complete: Avg. Loss: 0.3839, Validation Accuracy: 82.90%\n",
      "Validation accuracy improved, saving model...\n",
      "\n"
     ]
    },
    {
     "name": "stderr",
     "output_type": "stream",
     "text": [
      "Epoch 8: 100%|██████████| 390/390 [00:17<00:00, 22.11batch/s, accuracy=84.4, loss=0.361]\n"
     ]
    },
    {
     "name": "stdout",
     "output_type": "stream",
     "text": [
      "===> Epoch 8 Complete: Avg. Loss: 0.3614, Validation Accuracy: 83.52%\n",
      "Validation accuracy improved, saving model...\n",
      "\n"
     ]
    },
    {
     "name": "stderr",
     "output_type": "stream",
     "text": [
      "Epoch 9: 100%|██████████| 390/390 [00:17<00:00, 22.27batch/s, accuracy=85, loss=0.345]  \n"
     ]
    },
    {
     "name": "stdout",
     "output_type": "stream",
     "text": [
      "===> Epoch 9 Complete: Avg. Loss: 0.3445, Validation Accuracy: 82.61%\n"
     ]
    },
    {
     "name": "stderr",
     "output_type": "stream",
     "text": [
      "Epoch 10: 100%|██████████| 390/390 [00:17<00:00, 22.42batch/s, accuracy=85.6, loss=0.332]\n"
     ]
    },
    {
     "name": "stdout",
     "output_type": "stream",
     "text": [
      "===> Epoch 10 Complete: Avg. Loss: 0.3322, Validation Accuracy: 84.12%\n",
      "Validation accuracy improved, saving model...\n",
      "\n"
     ]
    },
    {
     "name": "stderr",
     "output_type": "stream",
     "text": [
      "Epoch 11: 100%|██████████| 390/390 [00:17<00:00, 22.46batch/s, accuracy=86.3, loss=0.32] \n"
     ]
    },
    {
     "name": "stdout",
     "output_type": "stream",
     "text": [
      "===> Epoch 11 Complete: Avg. Loss: 0.3196, Validation Accuracy: 81.77%\n"
     ]
    },
    {
     "name": "stderr",
     "output_type": "stream",
     "text": [
      "Epoch 12: 100%|██████████| 390/390 [00:17<00:00, 22.38batch/s, accuracy=87, loss=0.306]  \n"
     ]
    },
    {
     "name": "stdout",
     "output_type": "stream",
     "text": [
      "===> Epoch 12 Complete: Avg. Loss: 0.3060, Validation Accuracy: 84.35%\n",
      "Validation accuracy improved, saving model...\n",
      "\n"
     ]
    },
    {
     "name": "stderr",
     "output_type": "stream",
     "text": [
      "Epoch 13: 100%|██████████| 390/390 [00:17<00:00, 21.95batch/s, accuracy=87.7, loss=0.292]\n"
     ]
    },
    {
     "name": "stdout",
     "output_type": "stream",
     "text": [
      "===> Epoch 13 Complete: Avg. Loss: 0.2919, Validation Accuracy: 84.40%\n",
      "Validation accuracy improved, saving model...\n",
      "\n"
     ]
    },
    {
     "name": "stderr",
     "output_type": "stream",
     "text": [
      "Epoch 14: 100%|██████████| 390/390 [00:18<00:00, 20.97batch/s, accuracy=88.2, loss=0.285]\n"
     ]
    },
    {
     "name": "stdout",
     "output_type": "stream",
     "text": [
      "===> Epoch 14 Complete: Avg. Loss: 0.2846, Validation Accuracy: 83.77%\n"
     ]
    },
    {
     "name": "stderr",
     "output_type": "stream",
     "text": [
      "Epoch 15: 100%|██████████| 390/390 [00:18<00:00, 21.55batch/s, accuracy=88.9, loss=0.27] \n"
     ]
    },
    {
     "name": "stdout",
     "output_type": "stream",
     "text": [
      "===> Epoch 15 Complete: Avg. Loss: 0.2702, Validation Accuracy: 84.60%\n",
      "Validation accuracy improved, saving model...\n",
      "\n",
      "Loading best checkpoint...\n",
      "done.\n"
     ]
    }
   ],
   "source": [
    "train()"
   ]
  },
  {
   "cell_type": "markdown",
   "metadata": {
    "id": "Dvyr8B5QHlst"
   },
   "source": [
    "### = = = = = Extraction of Attention Coefficients = = = = =\n",
    "In this section, we will extract and display the attention coefficients on two levels: sentence level and word level. To do so, we will extract the corresponding weights from our model.\n",
    "#### <b>Task 3:</b>"
   ]
  },
  {
   "cell_type": "code",
   "execution_count": 11,
   "metadata": {
    "ExecuteTime": {
     "end_time": "2024-10-12T22:00:33.377819Z",
     "start_time": "2024-10-12T22:00:33.373934Z"
    },
    "id": "UVr8cS4MHlst"
   },
   "outputs": [],
   "source": [
    "# select last review:\n",
    "my_review = my_docs_array_test[-1:,:,:]\n",
    "\n",
    "# convert integer review to text:\n",
    "index_to_word[1] = 'OOV'\n",
    "my_review_text = [[index_to_word[idx] for idx in sent if idx in index_to_word] for sent in my_review.tolist()[0]]"
   ]
  },
  {
   "cell_type": "markdown",
   "metadata": {
    "id": "wHDJ7JiqHlsu"
   },
   "source": [
    "###   &emsp;&emsp;  = = = = = Attention Over Sentences in the Document = = = = ="
   ]
  },
  {
   "cell_type": "code",
   "execution_count": 12,
   "metadata": {
    "ExecuteTime": {
     "end_time": "2024-10-12T22:04:24.413743Z",
     "start_time": "2024-10-12T22:04:24.409524Z"
    }
   },
   "outputs": [
    {
     "data": {
      "text/plain": [
       "(1, 7, 30)"
      ]
     },
     "execution_count": 12,
     "metadata": {},
     "output_type": "execute_result"
    }
   ],
   "source": [
    "my_review.shape"
   ]
  },
  {
   "cell_type": "code",
   "execution_count": 13,
   "metadata": {
    "ExecuteTime": {
     "end_time": "2024-10-12T22:11:40.460708Z",
     "start_time": "2024-10-12T22:11:40.443535Z"
    },
    "id": "yooWg3kkHlsu"
   },
   "outputs": [
    {
     "name": "stdout",
     "output_type": "stream",
     "text": [
      "6.48 There 's a sign on The Lost Highway that says : OOV SPOILERS OOV ( but you already knew that , did n't you ? )\n",
      "9.95 Since there 's a great deal of people that apparently did not get the point of this movie , I 'd like to contribute my interpretation of why the plot\n",
      "10.06 As others have pointed out , one single viewing of this movie is not sufficient .\n",
      "13.95 If you have the DVD of MD , you can OOV ' by looking at David Lynch 's 'Top 10 OOV to OOV MD ' ( but only upon second\n",
      "22.85 ; ) First of all , Mulholland Drive is downright brilliant .\n",
      "24.52 A masterpiece .\n",
      "12.19 This is the kind of movie that refuse to leave your head .\n"
     ]
    }
   ],
   "source": [
    "with torch.no_grad():\n",
    "    sent_coeffs = model.forward(torch.tensor(my_review).to(device))[-1] # fill the gap # get sentence attention coeffs by passing the review to the model - (you need to convert the input torch tensor)\n",
    "sent_coeffs = sent_coeffs[0,:,:]\n",
    "\n",
    "for elt in zip(sent_coeffs[:,0].tolist(),[' '.join(elt) for elt in my_review_text]):\n",
    "    print(round(elt[0]*100,2),elt[1])"
   ]
  },
  {
   "cell_type": "code",
   "execution_count": 15,
   "metadata": {
    "jupyter": {
     "is_executing": true
    }
   },
   "outputs": [
    {
     "name": "stderr",
     "output_type": "stream",
     "text": [
      "/tmp/ipykernel_402151/803325241.py:9: FutureWarning: \n",
      "\n",
      "Passing `palette` without assigning `hue` is deprecated and will be removed in v0.14.0. Assign the `y` variable to `hue` and set `legend=False` for the same effect.\n",
      "\n",
      "  sns.barplot(x=attention_scores, y=sentences, orient='h', palette=\"Blues_d\")\n"
     ]
    },
    {
     "data": {
      "image/png": "[encoded data removed]",
      "text/plain": [
       "<Figure size 1000x600 with 1 Axes>"
      ]
     },
     "metadata": {},
     "output_type": "display_data"
    }
   ],
   "source": [
    "import matplotlib.pyplot as plt\n",
    "import seaborn as sns\n",
    "\n",
    "def plot_attention_coeffs(sent_coeffs, my_review_text):\n",
    "    attention_scores = sent_coeffs[:, 0].tolist()\n",
    "    sentences = [' '.join(elt) for elt in my_review_text]\n",
    "\n",
    "    plt.figure(figsize=(10, 6))\n",
    "    sns.barplot(x=attention_scores, y=sentences, orient='h', palette=\"Blues_d\")\n",
    "    plt.title('Sentence-Level Attention Scores')\n",
    "    plt.xlabel('Attention Score')\n",
    "    plt.ylabel('Sentence')\n",
    "    plt.savefig('./figures/Sentence_attention_scores.pdf')\n",
    "    plt.show()\n",
    "\n",
    "plot_attention_coeffs(sent_coeffs, my_review_text)"
   ]
  },
  {
   "cell_type": "markdown",
   "metadata": {
    "id": "rII-DNrKHlsu"
   },
   "source": [
    "### &emsp;&emsp; = = = = = Attention Over Words in Each Sentence = = = = ="
   ]
  },
  {
   "cell_type": "code",
   "execution_count": 16,
   "metadata": {
    "ExecuteTime": {
     "end_time": "2024-10-12T22:34:31.569333Z",
     "start_time": "2024-10-12T22:34:31.549648Z"
    },
    "colab": {
     "base_uri": "https://localhost:8080/"
    },
    "id": "JyFjAga6Hlsu",
    "outputId": "d9640e73-a3a1-4745-b215-d55470036a3c"
   },
   "outputs": [
    {
     "name": "stdout",
     "output_type": "stream",
     "text": [
      "[('This', 0.04035802308163445), ('is', 0.040178800524997595), ('the', 0.09297990418455818), ('kind', 0.09544671697687503), ('of', 0.041212959447843873), ('movie', 0.04387670706014515), ('that', 0.03570771815795336), ('refuse', 0.037601783827155136), ('to', 0.02967813384327452), ('leave', 0.04253267823912055), ('your', 0.03748405727089448), ('head', 0.07446795920908668), ('.', 0.029295601197621604)]\n",
      "('There', 0.1256614451525492)\n",
      "(\"'s\", 0.03071084632111238)\n",
      "('a', 0.03247416067903611)\n",
      "('sign', 0.06586525082955855)\n",
      "('on', 0.0395478917896414)\n",
      "('The', 0.03666264382489094)\n",
      "('Lost', 0.06863594020062513)\n",
      "('Highway', 0.07719906758438169)\n",
      "('that', 0.025321717077233172)\n",
      "('says', 0.019773198703340166)\n",
      "(':', 0.021836999605697013)\n",
      "('OOV', 0.015348424935426258)\n",
      "('SPOILERS', 0.017287219902598648)\n",
      "('OOV', 0.017432918113190032)\n",
      "('(', 0.021745025994711245)\n",
      "('but', 0.020231334610371177)\n",
      "('you', 0.03490401625092775)\n",
      "('already', 0.026914863708033254)\n",
      "('knew', 0.026984102975387052)\n",
      "('that', 0.023794855968721364)\n",
      "(',', 0.023452878839808736)\n",
      "('did', 0.021262125497622027)\n",
      "(\"n't\", 0.02479656075686457)\n",
      "('you', 0.026664307388836215)\n",
      "('?', 0.038276197826067816)\n",
      "(')', 0.034933429082916696)\n",
      "= = = =\n",
      "('Since', 0.04725321662492717)\n",
      "('there', 0.04833769424312837)\n",
      "(\"'s\", 0.05243337287550381)\n",
      "('a', 0.049787316729163526)\n",
      "('great', 0.16936883908330885)\n",
      "('deal', 0.03523502621723792)\n",
      "('of', 0.021610761784167175)\n",
      "('people', 0.023754154848426873)\n",
      "('that', 0.013475799382406579)\n",
      "('apparently', 0.015342508344320918)\n",
      "('did', 0.013277572354192057)\n",
      "('not', 0.01286720429208362)\n",
      "('get', 0.012851216518483243)\n",
      "('the', 0.020119695115082117)\n",
      "('point', 0.02238831608803092)\n",
      "('of', 0.01603216651740255)\n",
      "('this', 0.02409842719383284)\n",
      "('movie', 0.033301838730709715)\n",
      "(',', 0.016450036008192705)\n",
      "('I', 0.018426393916853512)\n",
      "(\"'d\", 0.03957720792196642)\n",
      "('like', 0.04302058075283311)\n",
      "('to', 0.031461799625683705)\n",
      "('contribute', 0.037901494400592144)\n",
      "('my', 0.03320947208986897)\n",
      "('interpretation', 0.029078447722283112)\n",
      "('of', 0.025158825469883076)\n",
      "('why', 0.02626065770343388)\n",
      "('the', 0.03789790805324388)\n",
      "('plot', 0.030022049278921832)\n",
      "= = = =\n",
      "('As', 0.031174599004484365)\n",
      "('others', 0.031367486974681384)\n",
      "('have', 0.023700247202418163)\n",
      "('pointed', 0.014474555135868346)\n",
      "('out', 0.017220244198069844)\n",
      "(',', 0.01085325447452248)\n",
      "('one', 0.017563880344913768)\n",
      "('single', 0.07888082264472605)\n",
      "('viewing', 0.030666871986749118)\n",
      "('of', 0.016993991212821528)\n",
      "('this', 0.024274269251594833)\n",
      "('movie', 0.03681992057495849)\n",
      "('is', 0.039930753811844175)\n",
      "('not', 0.2776025602237684)\n",
      "('sufficient', 0.13491913608245415)\n",
      "('.', 0.0235918542976506)\n",
      "= = = =\n",
      "('If', 0.11356257302335347)\n",
      "('you', 0.04870103291689002)\n",
      "('have', 0.031309449710895665)\n",
      "('the', 0.02747939287700582)\n",
      "('DVD', 0.03037056645689002)\n",
      "('of', 0.02121459668081186)\n",
      "('MD', 0.03506012169549635)\n",
      "(',', 0.023596358481750467)\n",
      "('you', 0.02174357581842115)\n",
      "('can', 0.021206524930742147)\n",
      "('OOV', 0.02079449887605075)\n",
      "(\"'\", 0.020620182068403978)\n",
      "('by', 0.027244966333114965)\n",
      "('looking', 0.050532661341542995)\n",
      "('at', 0.04293775564477598)\n",
      "('David', 0.042932898012699616)\n",
      "('Lynch', 0.03926093239311441)\n",
      "(\"'s\", 0.021323905848100476)\n",
      "(\"'Top\", 0.02346374729436703)\n",
      "('10', 0.022503702562867607)\n",
      "('OOV', 0.017307981575284806)\n",
      "('to', 0.020073626012662462)\n",
      "('OOV', 0.01850786483850329)\n",
      "('MD', 0.0380337448229386)\n",
      "(\"'\", 0.02176234549187349)\n",
      "('(', 0.028407303795435566)\n",
      "('but', 0.027089708655722432)\n",
      "('only', 0.06575792654119296)\n",
      "('upon', 0.04034588313427257)\n",
      "('second', 0.036854172011962)\n",
      "= = = =\n",
      "(';', 0.014861109724410154)\n",
      "(')', 0.042604607513839175)\n",
      "('First', 0.043979330431021264)\n",
      "('of', 0.02266641367712164)\n",
      "('all', 0.033916823736688084)\n",
      "(',', 0.013121938866282485)\n",
      "('Mulholland', 0.02458278092818959)\n",
      "('Drive', 0.02837168151512898)\n",
      "('is', 0.025643784383418012)\n",
      "('downright', 0.2552707900532266)\n",
      "('brilliant', 0.2889969997785546)\n",
      "('.', 0.021165150709952344)\n",
      "= = = =\n",
      "('A', 0.14191576066830178)\n",
      "('masterpiece', 0.38660700399716097)\n",
      "('.', 0.03308904449161337)\n",
      "= = = =\n",
      "('This', 0.04035802308163445)\n",
      "('is', 0.040178800524997595)\n",
      "('the', 0.09297990418455818)\n",
      "('kind', 0.09544671697687503)\n",
      "('of', 0.041212959447843873)\n",
      "('movie', 0.04387670706014515)\n",
      "('that', 0.03570771815795336)\n",
      "('refuse', 0.037601783827155136)\n",
      "('to', 0.02967813384327452)\n",
      "('leave', 0.04253267823912055)\n",
      "('your', 0.03748405727089448)\n",
      "('head', 0.07446795920908668)\n",
      "('.', 0.029295601197621604)\n",
      "= = = =\n",
      "('There', 0.1256614451525492)\n",
      "('Highway', 0.07719906758438169)\n",
      "('Lost', 0.06863594020062513)\n",
      "('sign', 0.06586525082955855)\n",
      "('on', 0.0395478917896414)\n",
      "('?', 0.038276197826067816)\n",
      "('The', 0.03666264382489094)\n",
      "(')', 0.034933429082916696)\n",
      "('you', 0.03490401625092775)\n",
      "('a', 0.03247416067903611)\n",
      "(\"'s\", 0.03071084632111238)\n",
      "('knew', 0.026984102975387052)\n",
      "('already', 0.026914863708033254)\n",
      "('you', 0.026664307388836215)\n",
      "('that', 0.025321717077233172)\n",
      "(\"n't\", 0.02479656075686457)\n",
      "('that', 0.023794855968721364)\n",
      "(',', 0.023452878839808736)\n",
      "(':', 0.021836999605697013)\n",
      "('(', 0.021745025994711245)\n",
      "('did', 0.021262125497622027)\n",
      "('but', 0.020231334610371177)\n",
      "('says', 0.019773198703340166)\n",
      "('OOV', 0.017432918113190032)\n",
      "('SPOILERS', 0.017287219902598648)\n",
      "('OOV', 0.015348424935426258)\n",
      "= = = =\n",
      "('great', 0.16936883908330885)\n",
      "(\"'s\", 0.05243337287550381)\n",
      "('a', 0.049787316729163526)\n",
      "('there', 0.04833769424312837)\n",
      "('Since', 0.04725321662492717)\n",
      "('like', 0.04302058075283311)\n",
      "(\"'d\", 0.03957720792196642)\n",
      "('contribute', 0.037901494400592144)\n",
      "('the', 0.03789790805324388)\n",
      "('deal', 0.03523502621723792)\n",
      "('movie', 0.033301838730709715)\n",
      "('my', 0.03320947208986897)\n",
      "('to', 0.031461799625683705)\n",
      "('plot', 0.030022049278921832)\n",
      "('interpretation', 0.029078447722283112)\n",
      "('why', 0.02626065770343388)\n",
      "('of', 0.025158825469883076)\n",
      "('this', 0.02409842719383284)\n",
      "('people', 0.023754154848426873)\n",
      "('point', 0.02238831608803092)\n",
      "('of', 0.021610761784167175)\n",
      "('the', 0.020119695115082117)\n",
      "('I', 0.018426393916853512)\n",
      "(',', 0.016450036008192705)\n",
      "('of', 0.01603216651740255)\n",
      "('apparently', 0.015342508344320918)\n",
      "('that', 0.013475799382406579)\n",
      "('did', 0.013277572354192057)\n",
      "('not', 0.01286720429208362)\n",
      "('get', 0.012851216518483243)\n",
      "= = = =\n",
      "('not', 0.2776025602237684)\n",
      "('sufficient', 0.13491913608245415)\n",
      "('single', 0.07888082264472605)\n",
      "('is', 0.039930753811844175)\n",
      "('movie', 0.03681992057495849)\n",
      "('others', 0.031367486974681384)\n",
      "('As', 0.031174599004484365)\n",
      "('viewing', 0.030666871986749118)\n",
      "('this', 0.024274269251594833)\n",
      "('have', 0.023700247202418163)\n",
      "('.', 0.0235918542976506)\n",
      "('one', 0.017563880344913768)\n",
      "('out', 0.017220244198069844)\n",
      "('of', 0.016993991212821528)\n",
      "('pointed', 0.014474555135868346)\n",
      "(',', 0.01085325447452248)\n",
      "= = = =\n",
      "('If', 0.11356257302335347)\n",
      "('only', 0.06575792654119296)\n",
      "('looking', 0.050532661341542995)\n",
      "('you', 0.04870103291689002)\n",
      "('at', 0.04293775564477598)\n",
      "('David', 0.042932898012699616)\n",
      "('upon', 0.04034588313427257)\n",
      "('Lynch', 0.03926093239311441)\n",
      "('MD', 0.0380337448229386)\n",
      "('second', 0.036854172011962)\n",
      "('MD', 0.03506012169549635)\n",
      "('have', 0.031309449710895665)\n",
      "('DVD', 0.03037056645689002)\n",
      "('(', 0.028407303795435566)\n",
      "('the', 0.02747939287700582)\n",
      "('by', 0.027244966333114965)\n",
      "('but', 0.027089708655722432)\n",
      "(',', 0.023596358481750467)\n",
      "(\"'Top\", 0.02346374729436703)\n",
      "('10', 0.022503702562867607)\n",
      "(\"'\", 0.02176234549187349)\n",
      "('you', 0.02174357581842115)\n",
      "(\"'s\", 0.021323905848100476)\n",
      "('of', 0.02121459668081186)\n",
      "('can', 0.021206524930742147)\n",
      "('OOV', 0.02079449887605075)\n",
      "(\"'\", 0.020620182068403978)\n",
      "('to', 0.020073626012662462)\n",
      "('OOV', 0.01850786483850329)\n",
      "('OOV', 0.017307981575284806)\n",
      "= = = =\n",
      "('brilliant', 0.2889969997785546)\n",
      "('downright', 0.2552707900532266)\n",
      "('First', 0.043979330431021264)\n",
      "(')', 0.042604607513839175)\n",
      "('all', 0.033916823736688084)\n",
      "('Drive', 0.02837168151512898)\n",
      "('is', 0.025643784383418012)\n",
      "('Mulholland', 0.02458278092818959)\n",
      "('of', 0.02266641367712164)\n",
      "('.', 0.021165150709952344)\n",
      "(';', 0.014861109724410154)\n",
      "(',', 0.013121938866282485)\n",
      "= = = =\n",
      "('masterpiece', 0.38660700399716097)\n",
      "('A', 0.14191576066830178)\n",
      "('.', 0.03308904449161337)\n",
      "= = = =\n",
      "('kind', 0.09544671697687503)\n",
      "('the', 0.09297990418455818)\n",
      "('head', 0.07446795920908668)\n",
      "('movie', 0.04387670706014515)\n",
      "('leave', 0.04253267823912055)\n",
      "('of', 0.041212959447843873)\n",
      "('This', 0.04035802308163445)\n",
      "('is', 0.040178800524997595)\n",
      "('refuse', 0.037601783827155136)\n",
      "('your', 0.03748405727089448)\n",
      "('that', 0.03570771815795336)\n",
      "('to', 0.02967813384327452)\n",
      "('.', 0.029295601197621604)\n",
      "= = = =\n"
     ]
    }
   ],
   "source": [
    "word_coeffs = model.forward(torch.tensor(my_review).to(device))[1] # fill the gap # get words attention coeffs by passing the review to the model - (you need to convert the inout torch tensor)\n",
    "\n",
    "word_coeffs_list = word_coeffs.reshape(7,30).tolist()\n",
    "\n",
    "# match text and coefficients:\n",
    "text_word_coeffs = [list(zip(words,word_coeffs_list[idx][:len(words)])) for idx,words in enumerate(my_review_text)]\n",
    "print(text_word_coeffs[-1])\n",
    "\n",
    "for sent in text_word_coeffs:\n",
    "    [print(elt) for elt in sent]\n",
    "    print('= = = =')\n",
    "\n",
    "# sort words by importance within each sentence:\n",
    "text_word_coeffs_sorted = [sorted(elt,key=operator.itemgetter(1),reverse=True) for elt in text_word_coeffs]\n",
    "\n",
    "for sent in text_word_coeffs_sorted:\n",
    "    [print(elt) for elt in sent]\n",
    "    print('= = = =')"
   ]
  },
  {
   "cell_type": "code",
   "execution_count": 17,
   "metadata": {
    "ExecuteTime": {
     "end_time": "2024-10-12T22:44:03.795164Z",
     "start_time": "2024-10-12T22:44:03.640795Z"
    }
   },
   "outputs": [
    {
     "name": "stderr",
     "output_type": "stream",
     "text": [
      "/tmp/ipykernel_402151/40007486.py:10: FutureWarning: \n",
      "\n",
      "Passing `palette` without assigning `hue` is deprecated and will be removed in v0.14.0. Assign the `x` variable to `hue` and set `legend=False` for the same effect.\n",
      "\n",
      "  sns.barplot(x=list(words), y=list(attention_scores), palette=\"Blues_d\")\n"
     ]
    },
    {
     "data": {
      "image/png": "[encoded data removed]",
      "text/plain": [
       "<Figure size 1200x400 with 1 Axes>"
      ]
     },
     "metadata": {},
     "output_type": "display_data"
    }
   ],
   "source": [
    "def plot_word_attention_coeffs(text_word_coeffs):\n",
    "     # Sort the word-attention pairs based on the attention score (descending order)\n",
    "    sorted_word_attention = sorted(text_word_coeffs, key=operator.itemgetter(1), reverse=True)\n",
    "    \n",
    "    # Unpack the sorted words and their corresponding attention coefficients\n",
    "    words, attention_scores = zip(*text_word_coeffs)\n",
    "\n",
    "    # Plot word-level attention using seaborn\n",
    "    plt.figure(figsize=(12, 4))\n",
    "    sns.barplot(x=list(words), y=list(attention_scores), palette=\"Blues_d\")\n",
    "    plt.title('Word-Level Attention Scores for Selected Sentence')\n",
    "    plt.xlabel('Word')\n",
    "    plt.ylabel('Attention Score')\n",
    "    plt.xticks(rotation=45)\n",
    "    plt.savefig('./figures/word_attention_scores.pdf')\n",
    "    plt.show()\n",
    "\n",
    "plot_word_attention_coeffs(text_word_coeffs[-3])"
   ]
  },
  {
   "cell_type": "markdown",
   "metadata": {
    "id": "C9JblVhaHlsu"
   },
   "source": []
  }
 ],
 "metadata": {
  "colab": {
   "provenance": []
  },
  "kernelspec": {
   "display_name": "base",
   "language": "python",
   "name": "python3"
  },
  "language_info": {
   "codemirror_mode": {
    "name": "ipython",
    "version": 3
   },
   "file_extension": ".py",
   "mimetype": "text/x-python",
   "name": "python",
   "nbconvert_exporter": "python",
   "pygments_lexer": "ipython3",
   "version": "3.12.2"
  }
 },
 "nbformat": 4,
 "nbformat_minor": 0
}
